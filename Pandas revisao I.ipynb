{
 "cells": [
  {
   "cell_type": "markdown",
   "id": "6e83db85",
   "metadata": {},
   "source": [
    "# Pandas"
   ]
  },
  {
   "cell_type": "markdown",
   "id": "e5e3f203",
   "metadata": {},
   "source": [
    "## Sintaxe"
   ]
  },
  {
   "cell_type": "markdown",
   "id": "1d001dc9",
   "metadata": {},
   "source": [
    "pandas.Series(data=None, index=None, dtype=None) #index e dtype preenchimento opcional"
   ]
  },
  {
   "cell_type": "code",
   "execution_count": 1,
   "id": "08658974",
   "metadata": {},
   "outputs": [],
   "source": [
    "import numpy as np\n",
    "import pandas as pd"
   ]
  },
  {
   "cell_type": "code",
   "execution_count": 2,
   "id": "56e732ec",
   "metadata": {},
   "outputs": [
    {
     "data": {
      "text/plain": [
       "0     2.0\n",
       "1     7.0\n",
       "2     5.0\n",
       "3    10.0\n",
       "4     6.0\n",
       "dtype: float64"
      ]
     },
     "execution_count": 2,
     "metadata": {},
     "output_type": "execute_result"
    }
   ],
   "source": [
    "pd.Series([2, 7, 5, 10, 6], dtype = float)"
   ]
  },
  {
   "cell_type": "code",
   "execution_count": 3,
   "id": "c7e49825",
   "metadata": {},
   "outputs": [
    {
     "data": {
      "text/plain": [
       "0     2\n",
       "1     7\n",
       "2     5\n",
       "3    10\n",
       "4     6\n",
       "dtype: int64"
      ]
     },
     "execution_count": 3,
     "metadata": {},
     "output_type": "execute_result"
    }
   ],
   "source": [
    "notas = pd.Series([2, 7, 5, 10, 6])\n",
    "notas"
   ]
  },
  {
   "cell_type": "code",
   "execution_count": 4,
   "id": "abf2dfb4",
   "metadata": {},
   "outputs": [
    {
     "data": {
      "text/plain": [
       "pandas.core.series.Series"
      ]
     },
     "execution_count": 4,
     "metadata": {},
     "output_type": "execute_result"
    }
   ],
   "source": [
    "type(notas)"
   ]
  },
  {
   "cell_type": "code",
   "execution_count": 5,
   "id": "cdf00abb",
   "metadata": {},
   "outputs": [
    {
     "data": {
      "text/plain": [
       "['T',\n",
       " '_AXIS_LEN',\n",
       " '_AXIS_ORDERS',\n",
       " '_AXIS_TO_AXIS_NUMBER',\n",
       " '_HANDLED_TYPES',\n",
       " '__abs__',\n",
       " '__add__',\n",
       " '__and__',\n",
       " '__annotations__',\n",
       " '__array__',\n",
       " '__array_priority__',\n",
       " '__array_ufunc__',\n",
       " '__array_wrap__',\n",
       " '__bool__',\n",
       " '__class__',\n",
       " '__contains__',\n",
       " '__copy__',\n",
       " '__deepcopy__',\n",
       " '__delattr__',\n",
       " '__delitem__',\n",
       " '__dict__',\n",
       " '__dir__',\n",
       " '__divmod__',\n",
       " '__doc__',\n",
       " '__eq__',\n",
       " '__finalize__',\n",
       " '__float__',\n",
       " '__floordiv__',\n",
       " '__format__',\n",
       " '__ge__',\n",
       " '__getattr__',\n",
       " '__getattribute__',\n",
       " '__getitem__',\n",
       " '__getstate__',\n",
       " '__gt__',\n",
       " '__hash__',\n",
       " '__iadd__',\n",
       " '__iand__',\n",
       " '__ifloordiv__',\n",
       " '__imod__',\n",
       " '__imul__',\n",
       " '__init__',\n",
       " '__init_subclass__',\n",
       " '__int__',\n",
       " '__invert__',\n",
       " '__ior__',\n",
       " '__ipow__',\n",
       " '__isub__',\n",
       " '__iter__',\n",
       " '__itruediv__',\n",
       " '__ixor__',\n",
       " '__le__',\n",
       " '__len__',\n",
       " '__long__',\n",
       " '__lt__',\n",
       " '__matmul__',\n",
       " '__mod__',\n",
       " '__module__',\n",
       " '__mul__',\n",
       " '__ne__',\n",
       " '__neg__',\n",
       " '__new__',\n",
       " '__nonzero__',\n",
       " '__or__',\n",
       " '__pos__',\n",
       " '__pow__',\n",
       " '__radd__',\n",
       " '__rand__',\n",
       " '__rdivmod__',\n",
       " '__reduce__',\n",
       " '__reduce_ex__',\n",
       " '__repr__',\n",
       " '__rfloordiv__',\n",
       " '__rmatmul__',\n",
       " '__rmod__',\n",
       " '__rmul__',\n",
       " '__ror__',\n",
       " '__round__',\n",
       " '__rpow__',\n",
       " '__rsub__',\n",
       " '__rtruediv__',\n",
       " '__rxor__',\n",
       " '__setattr__',\n",
       " '__setitem__',\n",
       " '__setstate__',\n",
       " '__sizeof__',\n",
       " '__str__',\n",
       " '__sub__',\n",
       " '__subclasshook__',\n",
       " '__truediv__',\n",
       " '__weakref__',\n",
       " '__xor__',\n",
       " '_accessors',\n",
       " '_accum_func',\n",
       " '_add_numeric_operations',\n",
       " '_agg_by_level',\n",
       " '_agg_examples_doc',\n",
       " '_agg_see_also_doc',\n",
       " '_align_frame',\n",
       " '_align_series',\n",
       " '_append',\n",
       " '_arith_method',\n",
       " '_as_manager',\n",
       " '_attrs',\n",
       " '_binop',\n",
       " '_can_hold_na',\n",
       " '_check_inplace_and_allows_duplicate_labels',\n",
       " '_check_inplace_setting',\n",
       " '_check_is_chained_assignment_possible',\n",
       " '_check_label_or_level_ambiguity',\n",
       " '_check_setitem_copy',\n",
       " '_clear_item_cache',\n",
       " '_clip_with_one_bound',\n",
       " '_clip_with_scalar',\n",
       " '_cmp_method',\n",
       " '_consolidate',\n",
       " '_consolidate_inplace',\n",
       " '_construct_axes_dict',\n",
       " '_construct_axes_from_arguments',\n",
       " '_construct_result',\n",
       " '_constructor',\n",
       " '_constructor_expanddim',\n",
       " '_convert',\n",
       " '_convert_dtypes',\n",
       " '_data',\n",
       " '_dir_additions',\n",
       " '_dir_deletions',\n",
       " '_drop_axis',\n",
       " '_drop_labels_or_levels',\n",
       " '_duplicated',\n",
       " '_find_valid_index',\n",
       " '_flags',\n",
       " '_from_mgr',\n",
       " '_get_axis',\n",
       " '_get_axis_name',\n",
       " '_get_axis_number',\n",
       " '_get_axis_resolvers',\n",
       " '_get_block_manager_axis',\n",
       " '_get_bool_data',\n",
       " '_get_cacher',\n",
       " '_get_cleaned_column_resolvers',\n",
       " '_get_index_resolvers',\n",
       " '_get_label_or_level_values',\n",
       " '_get_numeric_data',\n",
       " '_get_value',\n",
       " '_get_values',\n",
       " '_get_values_tuple',\n",
       " '_get_with',\n",
       " '_gotitem',\n",
       " '_hidden_attrs',\n",
       " '_indexed_same',\n",
       " '_info_axis',\n",
       " '_info_axis_name',\n",
       " '_info_axis_number',\n",
       " '_init_dict',\n",
       " '_init_mgr',\n",
       " '_inplace_method',\n",
       " '_internal_names',\n",
       " '_internal_names_set',\n",
       " '_is_cached',\n",
       " '_is_copy',\n",
       " '_is_label_or_level_reference',\n",
       " '_is_label_reference',\n",
       " '_is_level_reference',\n",
       " '_is_mixed_type',\n",
       " '_is_view',\n",
       " '_item_cache',\n",
       " '_ixs',\n",
       " '_logical_func',\n",
       " '_logical_method',\n",
       " '_map_values',\n",
       " '_maybe_update_cacher',\n",
       " '_memory_usage',\n",
       " '_metadata',\n",
       " '_mgr',\n",
       " '_min_count_stat_function',\n",
       " '_name',\n",
       " '_needs_reindex_multi',\n",
       " '_protect_consolidate',\n",
       " '_reduce',\n",
       " '_reindex_axes',\n",
       " '_reindex_indexer',\n",
       " '_reindex_multi',\n",
       " '_reindex_with_indexers',\n",
       " '_rename',\n",
       " '_replace_single',\n",
       " '_repr_data_resource_',\n",
       " '_repr_latex_',\n",
       " '_reset_cache',\n",
       " '_reset_cacher',\n",
       " '_set_as_cached',\n",
       " '_set_axis',\n",
       " '_set_axis_name',\n",
       " '_set_axis_nocheck',\n",
       " '_set_is_copy',\n",
       " '_set_labels',\n",
       " '_set_name',\n",
       " '_set_value',\n",
       " '_set_values',\n",
       " '_set_with',\n",
       " '_set_with_engine',\n",
       " '_slice',\n",
       " '_stat_axis',\n",
       " '_stat_axis_name',\n",
       " '_stat_axis_number',\n",
       " '_stat_function',\n",
       " '_stat_function_ddof',\n",
       " '_take_with_is_copy',\n",
       " '_typ',\n",
       " '_update_inplace',\n",
       " '_validate_dtype',\n",
       " '_values',\n",
       " '_where',\n",
       " 'abs',\n",
       " 'add',\n",
       " 'add_prefix',\n",
       " 'add_suffix',\n",
       " 'agg',\n",
       " 'aggregate',\n",
       " 'align',\n",
       " 'all',\n",
       " 'any',\n",
       " 'append',\n",
       " 'apply',\n",
       " 'argmax',\n",
       " 'argmin',\n",
       " 'argsort',\n",
       " 'array',\n",
       " 'asfreq',\n",
       " 'asof',\n",
       " 'astype',\n",
       " 'at',\n",
       " 'at_time',\n",
       " 'attrs',\n",
       " 'autocorr',\n",
       " 'axes',\n",
       " 'backfill',\n",
       " 'between',\n",
       " 'between_time',\n",
       " 'bfill',\n",
       " 'bool',\n",
       " 'clip',\n",
       " 'combine',\n",
       " 'combine_first',\n",
       " 'compare',\n",
       " 'convert_dtypes',\n",
       " 'copy',\n",
       " 'corr',\n",
       " 'count',\n",
       " 'cov',\n",
       " 'cummax',\n",
       " 'cummin',\n",
       " 'cumprod',\n",
       " 'cumsum',\n",
       " 'describe',\n",
       " 'diff',\n",
       " 'div',\n",
       " 'divide',\n",
       " 'divmod',\n",
       " 'dot',\n",
       " 'drop',\n",
       " 'drop_duplicates',\n",
       " 'droplevel',\n",
       " 'dropna',\n",
       " 'dtype',\n",
       " 'dtypes',\n",
       " 'duplicated',\n",
       " 'empty',\n",
       " 'eq',\n",
       " 'equals',\n",
       " 'ewm',\n",
       " 'expanding',\n",
       " 'explode',\n",
       " 'factorize',\n",
       " 'ffill',\n",
       " 'fillna',\n",
       " 'filter',\n",
       " 'first',\n",
       " 'first_valid_index',\n",
       " 'flags',\n",
       " 'floordiv',\n",
       " 'ge',\n",
       " 'get',\n",
       " 'groupby',\n",
       " 'gt',\n",
       " 'hasnans',\n",
       " 'head',\n",
       " 'hist',\n",
       " 'iat',\n",
       " 'idxmax',\n",
       " 'idxmin',\n",
       " 'iloc',\n",
       " 'index',\n",
       " 'infer_objects',\n",
       " 'info',\n",
       " 'interpolate',\n",
       " 'is_monotonic',\n",
       " 'is_monotonic_decreasing',\n",
       " 'is_monotonic_increasing',\n",
       " 'is_unique',\n",
       " 'isin',\n",
       " 'isna',\n",
       " 'isnull',\n",
       " 'item',\n",
       " 'items',\n",
       " 'iteritems',\n",
       " 'keys',\n",
       " 'kurt',\n",
       " 'kurtosis',\n",
       " 'last',\n",
       " 'last_valid_index',\n",
       " 'le',\n",
       " 'loc',\n",
       " 'lt',\n",
       " 'mad',\n",
       " 'map',\n",
       " 'mask',\n",
       " 'max',\n",
       " 'mean',\n",
       " 'median',\n",
       " 'memory_usage',\n",
       " 'min',\n",
       " 'mod',\n",
       " 'mode',\n",
       " 'mul',\n",
       " 'multiply',\n",
       " 'name',\n",
       " 'nbytes',\n",
       " 'ndim',\n",
       " 'ne',\n",
       " 'nlargest',\n",
       " 'notna',\n",
       " 'notnull',\n",
       " 'nsmallest',\n",
       " 'nunique',\n",
       " 'pad',\n",
       " 'pct_change',\n",
       " 'pipe',\n",
       " 'plot',\n",
       " 'pop',\n",
       " 'pow',\n",
       " 'prod',\n",
       " 'product',\n",
       " 'quantile',\n",
       " 'radd',\n",
       " 'rank',\n",
       " 'ravel',\n",
       " 'rdiv',\n",
       " 'rdivmod',\n",
       " 'reindex',\n",
       " 'reindex_like',\n",
       " 'rename',\n",
       " 'rename_axis',\n",
       " 'reorder_levels',\n",
       " 'repeat',\n",
       " 'replace',\n",
       " 'resample',\n",
       " 'reset_index',\n",
       " 'rfloordiv',\n",
       " 'rmod',\n",
       " 'rmul',\n",
       " 'rolling',\n",
       " 'round',\n",
       " 'rpow',\n",
       " 'rsub',\n",
       " 'rtruediv',\n",
       " 'sample',\n",
       " 'searchsorted',\n",
       " 'sem',\n",
       " 'set_axis',\n",
       " 'set_flags',\n",
       " 'shape',\n",
       " 'shift',\n",
       " 'size',\n",
       " 'skew',\n",
       " 'slice_shift',\n",
       " 'sort_index',\n",
       " 'sort_values',\n",
       " 'squeeze',\n",
       " 'std',\n",
       " 'sub',\n",
       " 'subtract',\n",
       " 'sum',\n",
       " 'swapaxes',\n",
       " 'swaplevel',\n",
       " 'tail',\n",
       " 'take',\n",
       " 'to_clipboard',\n",
       " 'to_csv',\n",
       " 'to_dict',\n",
       " 'to_excel',\n",
       " 'to_frame',\n",
       " 'to_hdf',\n",
       " 'to_json',\n",
       " 'to_latex',\n",
       " 'to_list',\n",
       " 'to_markdown',\n",
       " 'to_numpy',\n",
       " 'to_period',\n",
       " 'to_pickle',\n",
       " 'to_sql',\n",
       " 'to_string',\n",
       " 'to_timestamp',\n",
       " 'to_xarray',\n",
       " 'transform',\n",
       " 'transpose',\n",
       " 'truediv',\n",
       " 'truncate',\n",
       " 'tz_convert',\n",
       " 'tz_localize',\n",
       " 'unique',\n",
       " 'unstack',\n",
       " 'update',\n",
       " 'value_counts',\n",
       " 'values',\n",
       " 'var',\n",
       " 'view',\n",
       " 'where',\n",
       " 'xs']"
      ]
     },
     "execution_count": 5,
     "metadata": {},
     "output_type": "execute_result"
    }
   ],
   "source": [
    "dir(notas)"
   ]
  },
  {
   "cell_type": "code",
   "execution_count": 6,
   "id": "1e3235dc",
   "metadata": {},
   "outputs": [
    {
     "data": {
      "text/plain": [
       "1      8\n",
       "2      8\n",
       "3      6\n",
       "4      2\n",
       "5      8\n",
       "      ..\n",
       "96     8\n",
       "97     5\n",
       "98     4\n",
       "99     2\n",
       "100    9\n",
       "Length: 100, dtype: int32"
      ]
     },
     "execution_count": 6,
     "metadata": {},
     "output_type": "execute_result"
    }
   ],
   "source": [
    "np.random.seed(2)\n",
    "vetor = np.random.randint(0, 10, 100)\n",
    "ser = pd.Series(vetor, index = np.arange(1, vetor.shape[0]+1))\n",
    "ser\n",
    "               "
   ]
  },
  {
   "cell_type": "code",
   "execution_count": 7,
   "id": "a07a8f77",
   "metadata": {},
   "outputs": [
    {
     "data": {
      "text/plain": [
       "1    8\n",
       "2    8\n",
       "3    6\n",
       "4    2\n",
       "5    8\n",
       "dtype: int32"
      ]
     },
     "execution_count": 7,
     "metadata": {},
     "output_type": "execute_result"
    }
   ],
   "source": [
    "# mostra as 5 primeiras linhas da Series\n",
    "ser.head()"
   ]
  },
  {
   "cell_type": "code",
   "execution_count": 8,
   "id": "f34eeb71",
   "metadata": {},
   "outputs": [
    {
     "data": {
      "text/plain": [
       "96     8\n",
       "97     5\n",
       "98     4\n",
       "99     2\n",
       "100    9\n",
       "dtype: int32"
      ]
     },
     "execution_count": 8,
     "metadata": {},
     "output_type": "execute_result"
    }
   ],
   "source": [
    "# mostra as 5 últimas linhas da Series\n",
    "ser.tail(5)"
   ]
  },
  {
   "cell_type": "code",
   "execution_count": 9,
   "id": "6d92d1bb",
   "metadata": {},
   "outputs": [
    {
     "data": {
      "text/plain": [
       "a    8\n",
       "b    8\n",
       "c    6\n",
       "d    2\n",
       "e    8\n",
       "Name: notas, dtype: int32"
      ]
     },
     "execution_count": 9,
     "metadata": {},
     "output_type": "execute_result"
    }
   ],
   "source": [
    "# mudando o index\n",
    "np.random.seed(2)\n",
    "index = ['a', 'b', 'c', 'd', 'e']\n",
    "notas = pd.Series(np.random.randint(0, 10, 5), index = index, name = 'notas')\n",
    "notas"
   ]
  },
  {
   "cell_type": "code",
   "execution_count": 10,
   "id": "ae2e3965",
   "metadata": {},
   "outputs": [
    {
     "data": {
      "text/plain": [
       "8"
      ]
     },
     "execution_count": 10,
     "metadata": {},
     "output_type": "execute_result"
    }
   ],
   "source": [
    "# acessa o valor pelo índice\n",
    "notas[0]"
   ]
  },
  {
   "cell_type": "code",
   "execution_count": 11,
   "id": "92d36ed0",
   "metadata": {},
   "outputs": [
    {
     "data": {
      "text/plain": [
       "8"
      ]
     },
     "execution_count": 11,
     "metadata": {},
     "output_type": "execute_result"
    }
   ],
   "source": [
    "# acessa o valor plo label\n",
    "notas['a']"
   ]
  },
  {
   "cell_type": "code",
   "execution_count": 12,
   "id": "f404cce1",
   "metadata": {},
   "outputs": [
    {
     "data": {
      "text/plain": [
       "8"
      ]
     },
     "execution_count": 12,
     "metadata": {},
     "output_type": "execute_result"
    }
   ],
   "source": [
    "# acessa o valor ple label\n",
    "notas.get('a')"
   ]
  },
  {
   "cell_type": "markdown",
   "id": "a39605fd",
   "metadata": {},
   "source": [
    "## Verificando alguns atributos de Series"
   ]
  },
  {
   "cell_type": "code",
   "execution_count": 13,
   "id": "c379697e",
   "metadata": {},
   "outputs": [
    {
     "data": {
      "text/plain": [
       "a    8\n",
       "b    8\n",
       "c    6\n",
       "d    2\n",
       "e    8\n",
       "Name: notas, dtype: int32"
      ]
     },
     "execution_count": 13,
     "metadata": {},
     "output_type": "execute_result"
    }
   ],
   "source": [
    "notas"
   ]
  },
  {
   "cell_type": "code",
   "execution_count": 14,
   "id": "e0c8c81c",
   "metadata": {},
   "outputs": [
    {
     "data": {
      "text/plain": [
       "array([8, 8, 6, 2, 8])"
      ]
     },
     "execution_count": 14,
     "metadata": {},
     "output_type": "execute_result"
    }
   ],
   "source": [
    "notas.values"
   ]
  },
  {
   "cell_type": "code",
   "execution_count": 15,
   "id": "74d8ba29",
   "metadata": {},
   "outputs": [
    {
     "data": {
      "text/plain": [
       "numpy.ndarray"
      ]
     },
     "execution_count": 15,
     "metadata": {},
     "output_type": "execute_result"
    }
   ],
   "source": [
    "type(notas.values)"
   ]
  },
  {
   "cell_type": "code",
   "execution_count": 16,
   "id": "9c611549",
   "metadata": {},
   "outputs": [
    {
     "data": {
      "text/plain": [
       "pandas.core.series.Series"
      ]
     },
     "execution_count": 16,
     "metadata": {},
     "output_type": "execute_result"
    }
   ],
   "source": [
    "# chega o type\n",
    "type(notas)"
   ]
  },
  {
   "cell_type": "code",
   "execution_count": 17,
   "id": "6714bb16",
   "metadata": {},
   "outputs": [
    {
     "data": {
      "text/plain": [
       "Index(['a', 'b', 'c', 'd', 'e'], dtype='object')"
      ]
     },
     "execution_count": 17,
     "metadata": {},
     "output_type": "execute_result"
    }
   ],
   "source": [
    "# index\n",
    "notas.index"
   ]
  },
  {
   "cell_type": "code",
   "execution_count": 18,
   "id": "2e2460cc",
   "metadata": {},
   "outputs": [
    {
     "data": {
      "text/plain": [
       "1"
      ]
     },
     "execution_count": 18,
     "metadata": {},
     "output_type": "execute_result"
    }
   ],
   "source": [
    "# verificando a dimensão da Series\n",
    "notas.ndim"
   ]
  },
  {
   "cell_type": "code",
   "execution_count": 19,
   "id": "9af26b70",
   "metadata": {},
   "outputs": [
    {
     "data": {
      "text/plain": [
       "Andreia    9\n",
       "Daniele    6\n",
       "Michel     7\n",
       "Tony       5\n",
       "Cezar      8\n",
       "dtype: int64"
      ]
     },
     "execution_count": 19,
     "metadata": {},
     "output_type": "execute_result"
    }
   ],
   "source": [
    "notas = pd.Series([9, 6, 7, 5, 8], index=[\"Andreia\", \"Daniele\", \"Michel\", \"Tony\", \"Cezar\"])\n",
    "notas"
   ]
  },
  {
   "cell_type": "code",
   "execution_count": 20,
   "id": "7fef5a86",
   "metadata": {},
   "outputs": [
    {
     "data": {
      "text/plain": [
       "7.0"
      ]
     },
     "execution_count": 20,
     "metadata": {},
     "output_type": "execute_result"
    }
   ],
   "source": [
    "notas.mean()"
   ]
  },
  {
   "cell_type": "code",
   "execution_count": 21,
   "id": "f7e1cc64",
   "metadata": {},
   "outputs": [
    {
     "name": "stdout",
     "output_type": "stream",
     "text": [
      "Média: \n",
      "7.0\n"
     ]
    }
   ],
   "source": [
    "print('Média: ')\n",
    "print(notas.mean())"
   ]
  },
  {
   "cell_type": "code",
   "execution_count": 22,
   "id": "2e5460a8",
   "metadata": {},
   "outputs": [
    {
     "name": "stdout",
     "output_type": "stream",
     "text": [
      "Valor Máximo: \n",
      "9\n"
     ]
    }
   ],
   "source": [
    "print('Valor Máximo: ')\n",
    "print(notas.max())"
   ]
  },
  {
   "cell_type": "code",
   "execution_count": 23,
   "id": "ce0acb32",
   "metadata": {},
   "outputs": [
    {
     "name": "stdout",
     "output_type": "stream",
     "text": [
      "valor mínimo buscando o (index) - nome\n",
      "Tony\n"
     ]
    }
   ],
   "source": [
    "print('valor mínimo buscando o (index) - nome')\n",
    "print(notas.idxmin())"
   ]
  },
  {
   "cell_type": "code",
   "execution_count": 24,
   "id": "affba02e",
   "metadata": {},
   "outputs": [
    {
     "name": "stdout",
     "output_type": "stream",
     "text": [
      "valor máximo buscando o (index) - nome\n",
      "Andreia\n"
     ]
    }
   ],
   "source": [
    "print('valor máximo buscando o (index) - nome')\n",
    "print(notas.idxmax())"
   ]
  },
  {
   "cell_type": "code",
   "execution_count": 25,
   "id": "8c60bdc6",
   "metadata": {},
   "outputs": [
    {
     "data": {
      "text/plain": [
       "1    5\n",
       "2    5\n",
       "6    5\n",
       "dtype: int64"
      ]
     },
     "execution_count": 25,
     "metadata": {},
     "output_type": "execute_result"
    }
   ],
   "source": [
    "# Series com um único valor\n",
    "pd.Series(5, index = [1, 2, 6])"
   ]
  },
  {
   "cell_type": "code",
   "execution_count": 26,
   "id": "75d5c0be",
   "metadata": {},
   "outputs": [
    {
     "data": {
      "text/plain": [
       "2    a\n",
       "1    b\n",
       "3    c\n",
       "dtype: object"
      ]
     },
     "execution_count": 26,
     "metadata": {},
     "output_type": "execute_result"
    }
   ],
   "source": [
    "# cria uma Series a partir de um dicionário\n",
    "pd.Series({2 : 'a', \n",
    "           1 : 'b', \n",
    "           3 : 'c'})"
   ]
  },
  {
   "cell_type": "code",
   "execution_count": 27,
   "id": "488461da",
   "metadata": {},
   "outputs": [
    {
     "data": {
      "text/plain": [
       "João     10\n",
       "Maria     7\n",
       "dtype: int64"
      ]
     },
     "execution_count": 27,
     "metadata": {},
     "output_type": "execute_result"
    }
   ],
   "source": [
    "pd.Series({'João':10, 'Maria': 7})"
   ]
  },
  {
   "cell_type": "markdown",
   "id": "dfadeca6",
   "metadata": {},
   "source": [
    "## Series vs Numpy"
   ]
  },
  {
   "cell_type": "markdown",
   "id": "5efb982c",
   "metadata": {},
   "source": [
    "* Visualização\n",
    "* Índice"
   ]
  },
  {
   "cell_type": "code",
   "execution_count": 28,
   "id": "a55225e9",
   "metadata": {},
   "outputs": [
    {
     "data": {
      "text/plain": [
       "array([1, 2, 3])"
      ]
     },
     "execution_count": 28,
     "metadata": {},
     "output_type": "execute_result"
    }
   ],
   "source": [
    "# Visualização\n",
    "# Numpy\n",
    "np.array([1, 2, 3])"
   ]
  },
  {
   "cell_type": "code",
   "execution_count": 29,
   "id": "f194cce7",
   "metadata": {},
   "outputs": [
    {
     "data": {
      "text/plain": [
       "0    1\n",
       "1    2\n",
       "2    3\n",
       "dtype: int64"
      ]
     },
     "execution_count": 29,
     "metadata": {},
     "output_type": "execute_result"
    }
   ],
   "source": [
    "# Visualização\n",
    "pd.Series([1, 2, 3])"
   ]
  },
  {
   "cell_type": "markdown",
   "id": "23d6528f",
   "metadata": {},
   "source": [
    "Numpy nos traz um formato horizontal (1D). As Series são Colunas."
   ]
  },
  {
   "cell_type": "code",
   "execution_count": 30,
   "id": "f902b8d1",
   "metadata": {},
   "outputs": [],
   "source": [
    "# Índice\n",
    "series_exemplo = pd.Series([1, 2, 3, 4], index = ['numero_1', 'numero_2', 'numero_3', 'numero_4'] )"
   ]
  },
  {
   "cell_type": "code",
   "execution_count": 31,
   "id": "f7b73d34",
   "metadata": {},
   "outputs": [
    {
     "data": {
      "text/plain": [
       "numero_1    1\n",
       "numero_2    2\n",
       "numero_3    3\n",
       "numero_4    4\n",
       "dtype: int64"
      ]
     },
     "execution_count": 31,
     "metadata": {},
     "output_type": "execute_result"
    }
   ],
   "source": [
    "series_exemplo"
   ]
  },
  {
   "cell_type": "code",
   "execution_count": 32,
   "id": "3bc63fa6",
   "metadata": {},
   "outputs": [
    {
     "data": {
      "text/plain": [
       "1"
      ]
     },
     "execution_count": 32,
     "metadata": {},
     "output_type": "execute_result"
    }
   ],
   "source": [
    "series_exemplo[0]"
   ]
  },
  {
   "cell_type": "code",
   "execution_count": 33,
   "id": "7f73b2cb",
   "metadata": {},
   "outputs": [
    {
     "data": {
      "text/plain": [
       "1"
      ]
     },
     "execution_count": 33,
     "metadata": {},
     "output_type": "execute_result"
    }
   ],
   "source": [
    "series_exemplo['numero_1']"
   ]
  },
  {
   "cell_type": "code",
   "execution_count": 34,
   "id": "e2fcd5bb",
   "metadata": {},
   "outputs": [
    {
     "data": {
      "text/plain": [
       "numero_1    1\n",
       "numero_2    2\n",
       "numero_3    3\n",
       "dtype: int64"
      ]
     },
     "execution_count": 34,
     "metadata": {},
     "output_type": "execute_result"
    }
   ],
   "source": [
    "series_exemplo['numero_1':'numero_3']"
   ]
  },
  {
   "cell_type": "code",
   "execution_count": 35,
   "id": "0f71856d",
   "metadata": {},
   "outputs": [
    {
     "data": {
      "text/plain": [
       "numero_1    1\n",
       "numero_2    2\n",
       "numero_3    3\n",
       "dtype: int64"
      ]
     },
     "execution_count": 35,
     "metadata": {},
     "output_type": "execute_result"
    }
   ],
   "source": [
    "series_exemplo[0:3]"
   ]
  },
  {
   "cell_type": "code",
   "execution_count": 36,
   "id": "8b0faedd",
   "metadata": {},
   "outputs": [
    {
     "data": {
      "text/plain": [
       "numero_2    2\n",
       "numero_3    3\n",
       "numero_4    4\n",
       "dtype: int64"
      ]
     },
     "execution_count": 36,
     "metadata": {},
     "output_type": "execute_result"
    }
   ],
   "source": [
    "series_exemplo[1:]"
   ]
  },
  {
   "cell_type": "code",
   "execution_count": 37,
   "id": "2bf704a7",
   "metadata": {},
   "outputs": [
    {
     "data": {
      "text/plain": [
       "numero_2    2\n",
       "numero_3    3\n",
       "numero_4    4\n",
       "dtype: int64"
      ]
     },
     "execution_count": 37,
     "metadata": {},
     "output_type": "execute_result"
    }
   ],
   "source": [
    "series_exemplo['numero_2':]"
   ]
  },
  {
   "cell_type": "code",
   "execution_count": 38,
   "id": "3ee03fe0",
   "metadata": {},
   "outputs": [
    {
     "data": {
      "text/plain": [
       "array([1, 2, 3, 4], dtype=int64)"
      ]
     },
     "execution_count": 38,
     "metadata": {},
     "output_type": "execute_result"
    }
   ],
   "source": [
    "# acessando valores\n",
    "series_exemplo.values"
   ]
  },
  {
   "cell_type": "code",
   "execution_count": 39,
   "id": "2fb836d7",
   "metadata": {},
   "outputs": [
    {
     "data": {
      "text/plain": [
       "Index(['numero_1', 'numero_2', 'numero_3', 'numero_4'], dtype='object')"
      ]
     },
     "execution_count": 39,
     "metadata": {},
     "output_type": "execute_result"
    }
   ],
   "source": [
    "# acessando índices\n",
    "series_exemplo.index"
   ]
  },
  {
   "cell_type": "markdown",
   "id": "889bc552",
   "metadata": {},
   "source": [
    "## Operações Básicas com Series"
   ]
  },
  {
   "cell_type": "code",
   "execution_count": 40,
   "id": "9c5528b8",
   "metadata": {},
   "outputs": [],
   "source": [
    "series1 = pd.Series([1,2,3], index=['carne', 'carneiro', 'ovelha'])\n",
    "series2 = pd.Series([1,2,3], index=['ovo', 'carneiro', 'ovelha'])"
   ]
  },
  {
   "cell_type": "code",
   "execution_count": 41,
   "id": "e287972a",
   "metadata": {},
   "outputs": [
    {
     "data": {
      "text/plain": [
       "carne       1\n",
       "carneiro    2\n",
       "ovelha      3\n",
       "dtype: int64"
      ]
     },
     "execution_count": 41,
     "metadata": {},
     "output_type": "execute_result"
    }
   ],
   "source": [
    "series1"
   ]
  },
  {
   "cell_type": "code",
   "execution_count": 42,
   "id": "2872bb38",
   "metadata": {},
   "outputs": [
    {
     "data": {
      "text/plain": [
       "ovo         1\n",
       "carneiro    2\n",
       "ovelha      3\n",
       "dtype: int64"
      ]
     },
     "execution_count": 42,
     "metadata": {},
     "output_type": "execute_result"
    }
   ],
   "source": [
    "series2"
   ]
  },
  {
   "cell_type": "code",
   "execution_count": 43,
   "id": "868cd935",
   "metadata": {},
   "outputs": [
    {
     "data": {
      "text/plain": [
       "carne       NaN\n",
       "carneiro    4.0\n",
       "ovelha      6.0\n",
       "ovo         NaN\n",
       "dtype: float64"
      ]
     },
     "execution_count": 43,
     "metadata": {},
     "output_type": "execute_result"
    }
   ],
   "source": [
    "# Soma \n",
    "series1 + series2"
   ]
  },
  {
   "cell_type": "code",
   "execution_count": 44,
   "id": "3f0b8773",
   "metadata": {},
   "outputs": [
    {
     "data": {
      "text/plain": [
       "carne       NaN\n",
       "carneiro    1.0\n",
       "ovelha      1.0\n",
       "ovo         NaN\n",
       "dtype: float64"
      ]
     },
     "execution_count": 44,
     "metadata": {},
     "output_type": "execute_result"
    }
   ],
   "source": [
    "# divisão\n",
    "series1 / series2"
   ]
  },
  {
   "cell_type": "code",
   "execution_count": 45,
   "id": "8658b930",
   "metadata": {},
   "outputs": [
    {
     "data": {
      "text/plain": [
       "carne       NaN\n",
       "carneiro    0.0\n",
       "ovelha      0.0\n",
       "ovo         NaN\n",
       "dtype: float64"
      ]
     },
     "execution_count": 45,
     "metadata": {},
     "output_type": "execute_result"
    }
   ],
   "source": [
    "# subtração \n",
    "series1 - series2"
   ]
  },
  {
   "cell_type": "code",
   "execution_count": 46,
   "id": "03b44636",
   "metadata": {},
   "outputs": [
    {
     "data": {
      "text/plain": [
       "carne       NaN\n",
       "carneiro    4.0\n",
       "ovelha      9.0\n",
       "ovo         NaN\n",
       "dtype: float64"
      ]
     },
     "execution_count": 46,
     "metadata": {},
     "output_type": "execute_result"
    }
   ],
   "source": [
    "# multiplicação\n",
    "series1 * series2"
   ]
  },
  {
   "cell_type": "code",
   "execution_count": 47,
   "id": "42602f68",
   "metadata": {},
   "outputs": [
    {
     "data": {
      "text/plain": [
       "carne       False\n",
       "carneiro    False\n",
       "ovelha       True\n",
       "dtype: bool"
      ]
     },
     "execution_count": 47,
     "metadata": {},
     "output_type": "execute_result"
    }
   ],
   "source": [
    "# O ``Filtro`` é como se estivéssemos comparando \n",
    "# elemento por elemento e fazendo a comparação desejada.\n",
    "series1 >= 3"
   ]
  },
  {
   "cell_type": "code",
   "execution_count": 48,
   "id": "9594761b",
   "metadata": {},
   "outputs": [
    {
     "data": {
      "text/plain": [
       "Series([], dtype: int64)"
      ]
     },
     "execution_count": 48,
     "metadata": {},
     "output_type": "execute_result"
    }
   ],
   "source": [
    "# se quisermos conhecer os valores\n",
    "series1[series1 > 3]"
   ]
  },
  {
   "cell_type": "code",
   "execution_count": 49,
   "id": "622184b2",
   "metadata": {},
   "outputs": [
    {
     "data": {
      "text/plain": [
       "ovelha    3\n",
       "dtype: int64"
      ]
     },
     "execution_count": 49,
     "metadata": {},
     "output_type": "execute_result"
    }
   ],
   "source": [
    "series1[series1>=3]"
   ]
  },
  {
   "cell_type": "code",
   "execution_count": 50,
   "id": "883e8c10",
   "metadata": {},
   "outputs": [
    {
     "data": {
      "text/plain": [
       "carne       1\n",
       "carneiro    2\n",
       "dtype: int64"
      ]
     },
     "execution_count": 50,
     "metadata": {},
     "output_type": "execute_result"
    }
   ],
   "source": [
    "# se quisermos a negação da condição\n",
    "series1[~(series1>2)]"
   ]
  },
  {
   "cell_type": "code",
   "execution_count": 51,
   "id": "ad09b2ab",
   "metadata": {},
   "outputs": [
    {
     "data": {
      "text/plain": [
       "6"
      ]
     },
     "execution_count": 51,
     "metadata": {},
     "output_type": "execute_result"
    }
   ],
   "source": [
    "series1.sum()"
   ]
  },
  {
   "cell_type": "code",
   "execution_count": 52,
   "id": "a3ee99db",
   "metadata": {},
   "outputs": [
    {
     "data": {
      "text/plain": [
       "1.0"
      ]
     },
     "execution_count": 52,
     "metadata": {},
     "output_type": "execute_result"
    }
   ],
   "source": [
    "series1.std()"
   ]
  },
  {
   "cell_type": "code",
   "execution_count": 53,
   "id": "6fd0e2d3",
   "metadata": {},
   "outputs": [
    {
     "data": {
      "text/plain": [
       "3"
      ]
     },
     "execution_count": 53,
     "metadata": {},
     "output_type": "execute_result"
    }
   ],
   "source": [
    "series1.max()"
   ]
  },
  {
   "cell_type": "code",
   "execution_count": 54,
   "id": "c964e693",
   "metadata": {},
   "outputs": [
    {
     "data": {
      "text/plain": [
       "1"
      ]
     },
     "execution_count": 54,
     "metadata": {},
     "output_type": "execute_result"
    }
   ],
   "source": [
    "series1.min()"
   ]
  },
  {
   "cell_type": "code",
   "execution_count": 55,
   "id": "45783c67",
   "metadata": {},
   "outputs": [],
   "source": [
    "# E se quisermos criar um novo elemento com um novo índice?"
   ]
  },
  {
   "cell_type": "code",
   "execution_count": 56,
   "id": "74fac1cd",
   "metadata": {},
   "outputs": [],
   "source": [
    "series1['cabra'] = 10"
   ]
  },
  {
   "cell_type": "code",
   "execution_count": 57,
   "id": "6df51d79",
   "metadata": {},
   "outputs": [
    {
     "data": {
      "text/plain": [
       "carne        1\n",
       "carneiro     2\n",
       "ovelha       3\n",
       "cabra       10\n",
       "dtype: int64"
      ]
     },
     "execution_count": 57,
     "metadata": {},
     "output_type": "execute_result"
    }
   ],
   "source": [
    "series1"
   ]
  },
  {
   "cell_type": "code",
   "execution_count": 58,
   "id": "815a436c",
   "metadata": {},
   "outputs": [
    {
     "data": {
      "text/plain": [
       "ovo         1\n",
       "carneiro    2\n",
       "ovelha      3\n",
       "dtype: int64"
      ]
     },
     "execution_count": 58,
     "metadata": {},
     "output_type": "execute_result"
    }
   ],
   "source": [
    "series2"
   ]
  },
  {
   "cell_type": "code",
   "execution_count": 59,
   "id": "4b4b4942",
   "metadata": {},
   "outputs": [
    {
     "data": {
      "text/plain": [
       "1     1\n",
       "2     1\n",
       "3     1\n",
       "10    1\n",
       "dtype: int64"
      ]
     },
     "execution_count": 59,
     "metadata": {},
     "output_type": "execute_result"
    }
   ],
   "source": [
    "# value counts\n",
    "series1.value_counts()"
   ]
  },
  {
   "cell_type": "code",
   "execution_count": 60,
   "id": "0be4bce8",
   "metadata": {},
   "outputs": [],
   "source": [
    "notas['Thiago'] = 9"
   ]
  },
  {
   "cell_type": "code",
   "execution_count": 61,
   "id": "197294d8",
   "metadata": {},
   "outputs": [
    {
     "data": {
      "text/plain": [
       "Andreia    9\n",
       "Daniele    6\n",
       "Michel     7\n",
       "Tony       5\n",
       "Cezar      8\n",
       "Thiago     9\n",
       "dtype: int64"
      ]
     },
     "execution_count": 61,
     "metadata": {},
     "output_type": "execute_result"
    }
   ],
   "source": [
    "notas"
   ]
  },
  {
   "cell_type": "code",
   "execution_count": 62,
   "id": "676f45e5",
   "metadata": {},
   "outputs": [
    {
     "data": {
      "text/plain": [
       "9    2\n",
       "6    1\n",
       "7    1\n",
       "5    1\n",
       "8    1\n",
       "dtype: int64"
      ]
     },
     "execution_count": 62,
     "metadata": {},
     "output_type": "execute_result"
    }
   ],
   "source": [
    "notas.value_counts()"
   ]
  },
  {
   "cell_type": "code",
   "execution_count": 63,
   "id": "0f80740e",
   "metadata": {},
   "outputs": [],
   "source": [
    "# Podemos checar se o valor de uma series existe em outra series ou lista."
   ]
  },
  {
   "cell_type": "code",
   "execution_count": 64,
   "id": "8391a294",
   "metadata": {},
   "outputs": [
    {
     "data": {
      "text/plain": [
       "carne       False\n",
       "carneiro    False\n",
       "ovelha      False\n",
       "cabra        True\n",
       "dtype: bool"
      ]
     },
     "execution_count": 64,
     "metadata": {},
     "output_type": "execute_result"
    }
   ],
   "source": [
    "# isin\n",
    "~series1.isin(series2)"
   ]
  },
  {
   "cell_type": "code",
   "execution_count": 65,
   "id": "2692c63c",
   "metadata": {},
   "outputs": [
    {
     "data": {
      "text/plain": [
       "carne       False\n",
       "carneiro    False\n",
       "ovelha      False\n",
       "cabra        True\n",
       "dtype: bool"
      ]
     },
     "execution_count": 65,
     "metadata": {},
     "output_type": "execute_result"
    }
   ],
   "source": [
    "# opeardor ~\n",
    "~series1.isin(series2)"
   ]
  },
  {
   "cell_type": "code",
   "execution_count": 66,
   "id": "545b09d3",
   "metadata": {},
   "outputs": [
    {
     "data": {
      "text/plain": [
       "carne        1\n",
       "carneiro     2\n",
       "ovelha       3\n",
       "cabra       10\n",
       "dtype: int64"
      ]
     },
     "execution_count": 66,
     "metadata": {},
     "output_type": "execute_result"
    }
   ],
   "source": [
    "## Concatenação\n",
    "series1"
   ]
  },
  {
   "cell_type": "markdown",
   "id": "22693d30",
   "metadata": {},
   "source": [
    "series2"
   ]
  },
  {
   "cell_type": "code",
   "execution_count": 67,
   "id": "a40e69d7",
   "metadata": {},
   "outputs": [
    {
     "data": {
      "text/html": [
       "<div>\n",
       "<style scoped>\n",
       "    .dataframe tbody tr th:only-of-type {\n",
       "        vertical-align: middle;\n",
       "    }\n",
       "\n",
       "    .dataframe tbody tr th {\n",
       "        vertical-align: top;\n",
       "    }\n",
       "\n",
       "    .dataframe thead th {\n",
       "        text-align: right;\n",
       "    }\n",
       "</style>\n",
       "<table border=\"1\" class=\"dataframe\">\n",
       "  <thead>\n",
       "    <tr style=\"text-align: right;\">\n",
       "      <th></th>\n",
       "      <th>0</th>\n",
       "      <th>1</th>\n",
       "    </tr>\n",
       "  </thead>\n",
       "  <tbody>\n",
       "    <tr>\n",
       "      <th>carne</th>\n",
       "      <td>1.0</td>\n",
       "      <td>NaN</td>\n",
       "    </tr>\n",
       "    <tr>\n",
       "      <th>carneiro</th>\n",
       "      <td>2.0</td>\n",
       "      <td>2.0</td>\n",
       "    </tr>\n",
       "    <tr>\n",
       "      <th>ovelha</th>\n",
       "      <td>3.0</td>\n",
       "      <td>3.0</td>\n",
       "    </tr>\n",
       "    <tr>\n",
       "      <th>cabra</th>\n",
       "      <td>10.0</td>\n",
       "      <td>NaN</td>\n",
       "    </tr>\n",
       "    <tr>\n",
       "      <th>ovo</th>\n",
       "      <td>NaN</td>\n",
       "      <td>1.0</td>\n",
       "    </tr>\n",
       "  </tbody>\n",
       "</table>\n",
       "</div>"
      ],
      "text/plain": [
       "             0    1\n",
       "carne      1.0  NaN\n",
       "carneiro   2.0  2.0\n",
       "ovelha     3.0  3.0\n",
       "cabra     10.0  NaN\n",
       "ovo        NaN  1.0"
      ]
     },
     "execution_count": 67,
     "metadata": {},
     "output_type": "execute_result"
    }
   ],
   "source": [
    "pd.concat([series1, series2], axis = 1)"
   ]
  },
  {
   "cell_type": "code",
   "execution_count": 68,
   "id": "c1264226",
   "metadata": {},
   "outputs": [
    {
     "data": {
      "text/plain": [
       "carne        1\n",
       "carneiro     2\n",
       "ovelha       3\n",
       "cabra       10\n",
       "ovo          1\n",
       "carneiro     2\n",
       "ovelha       3\n",
       "dtype: int64"
      ]
     },
     "execution_count": 68,
     "metadata": {},
     "output_type": "execute_result"
    }
   ],
   "source": [
    "pd.concat([series1, series2], axis = 0)"
   ]
  },
  {
   "cell_type": "markdown",
   "id": "b97d138e",
   "metadata": {},
   "source": [
    "## Extra"
   ]
  },
  {
   "cell_type": "code",
   "execution_count": 69,
   "id": "2cc8c64c",
   "metadata": {},
   "outputs": [],
   "source": [
    "ser1 = pd.Series([1, 2, 3, 4, 5])\n",
    "ser2 = pd.Series([4, 5, 6, 7, 8])"
   ]
  },
  {
   "cell_type": "code",
   "execution_count": 70,
   "id": "aeef965b",
   "metadata": {},
   "outputs": [
    {
     "data": {
      "text/plain": [
       "0    1\n",
       "1    2\n",
       "2    3\n",
       "dtype: int64"
      ]
     },
     "execution_count": 70,
     "metadata": {},
     "output_type": "execute_result"
    }
   ],
   "source": [
    "ser1[~(ser1.isin(ser2))]"
   ]
  },
  {
   "cell_type": "code",
   "execution_count": 71,
   "id": "80a60721",
   "metadata": {},
   "outputs": [],
   "source": [
    "series = pd.Series([10, 1], index = ['a', 'b'])"
   ]
  },
  {
   "cell_type": "code",
   "execution_count": 72,
   "id": "9f603443",
   "metadata": {},
   "outputs": [
    {
     "data": {
      "text/plain": [
       "a    10\n",
       "b     1\n",
       "dtype: int64"
      ]
     },
     "execution_count": 72,
     "metadata": {},
     "output_type": "execute_result"
    }
   ],
   "source": [
    "series"
   ]
  },
  {
   "cell_type": "code",
   "execution_count": 73,
   "id": "e1630af9",
   "metadata": {},
   "outputs": [],
   "source": [
    "series['c'] = 7\n",
    "series['d'] = 'a'"
   ]
  },
  {
   "cell_type": "code",
   "execution_count": 74,
   "id": "19593e12",
   "metadata": {},
   "outputs": [
    {
     "data": {
      "text/plain": [
       "a    10\n",
       "b     1\n",
       "c     7\n",
       "d     a\n",
       "dtype: object"
      ]
     },
     "execution_count": 74,
     "metadata": {},
     "output_type": "execute_result"
    }
   ],
   "source": [
    "series"
   ]
  },
  {
   "cell_type": "code",
   "execution_count": 75,
   "id": "b342d24d",
   "metadata": {},
   "outputs": [
    {
     "data": {
      "text/plain": [
       "int"
      ]
     },
     "execution_count": 75,
     "metadata": {},
     "output_type": "execute_result"
    }
   ],
   "source": [
    "type(series[0])"
   ]
  },
  {
   "cell_type": "code",
   "execution_count": 76,
   "id": "b4325957",
   "metadata": {},
   "outputs": [
    {
     "data": {
      "text/plain": [
       "numpy.str_"
      ]
     },
     "execution_count": 76,
     "metadata": {},
     "output_type": "execute_result"
    }
   ],
   "source": [
    "type(np.array(['a', 1])[1])"
   ]
  },
  {
   "cell_type": "code",
   "execution_count": 77,
   "id": "c567fd8c",
   "metadata": {},
   "outputs": [],
   "source": [
    "series['d'] = 9"
   ]
  },
  {
   "cell_type": "code",
   "execution_count": 78,
   "id": "43fe3a31",
   "metadata": {},
   "outputs": [
    {
     "data": {
      "text/plain": [
       "6.75"
      ]
     },
     "execution_count": 78,
     "metadata": {},
     "output_type": "execute_result"
    }
   ],
   "source": [
    "series.mean()"
   ]
  },
  {
   "cell_type": "code",
   "execution_count": 79,
   "id": "b874cb00",
   "metadata": {},
   "outputs": [
    {
     "data": {
      "text/plain": [
       "27"
      ]
     },
     "execution_count": 79,
     "metadata": {},
     "output_type": "execute_result"
    }
   ],
   "source": [
    "series.sum()"
   ]
  },
  {
   "cell_type": "code",
   "execution_count": 80,
   "id": "f6d7dbc4",
   "metadata": {},
   "outputs": [
    {
     "data": {
      "text/plain": [
       "<AxesSubplot:>"
      ]
     },
     "execution_count": 80,
     "metadata": {},
     "output_type": "execute_result"
    },
    {
     "data": {
      "image/png": "[encoded data removed]",
      "text/plain": [
       "<Figure size 432x288 with 1 Axes>"
      ]
     },
     "metadata": {
      "needs_background": "light"
     },
     "output_type": "display_data"
    }
   ],
   "source": [
    "series.plot()"
   ]
  },
  {
   "cell_type": "code",
   "execution_count": null,
   "id": "d093f979",
   "metadata": {},
   "outputs": [],
   "source": []
  }
 ],
 "metadata": {
  "kernelspec": {
   "display_name": "Python 3 (ipykernel)",
   "language": "python",
   "name": "python3"
  },
  "language_info": {
   "codemirror_mode": {
    "name": "ipython",
    "version": 3
   },
   "file_extension": ".py",
   "mimetype": "text/x-python",
   "name": "python",
   "nbconvert_exporter": "python",
   "pygments_lexer": "ipython3",
   "version": "3.9.12"
  }
 },
 "nbformat": 4,
 "nbformat_minor": 5
}
