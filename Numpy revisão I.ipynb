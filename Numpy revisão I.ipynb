{
 "cells": [
  {
   "cell_type": "markdown",
   "id": "e4bf50cd",
   "metadata": {},
   "source": [
    "# Numpy"
   ]
  },
  {
   "cell_type": "markdown",
   "id": "ab332a68",
   "metadata": {},
   "source": [
    "## Arrays e Primeiros Passos"
   ]
  },
  {
   "cell_type": "code",
   "execution_count": 1,
   "id": "147f2a93",
   "metadata": {},
   "outputs": [],
   "source": [
    "# import numpy\n",
    "import numpy as np"
   ]
  },
  {
   "cell_type": "code",
   "execution_count": 2,
   "id": "c018a3f3",
   "metadata": {},
   "outputs": [],
   "source": [
    "# posso iniciar com uma lista\n",
    "lista = [1, 2, 3]\n",
    "# podemos definir o tipo\n",
    "np_array = np.array(lista, float)\n",
    "# np_array = np.array([1,2,3], float)"
   ]
  },
  {
   "cell_type": "code",
   "execution_count": 3,
   "id": "c8ad2d53",
   "metadata": {},
   "outputs": [
    {
     "data": {
      "text/plain": [
       "array([1., 2., 3.])"
      ]
     },
     "execution_count": 3,
     "metadata": {},
     "output_type": "execute_result"
    }
   ],
   "source": [
    "np_array"
   ]
  },
  {
   "cell_type": "code",
   "execution_count": 4,
   "id": "6d5a4338",
   "metadata": {},
   "outputs": [
    {
     "data": {
      "text/plain": [
       "numpy.ndarray"
      ]
     },
     "execution_count": 4,
     "metadata": {},
     "output_type": "execute_result"
    }
   ],
   "source": [
    "type(np_array)"
   ]
  },
  {
   "cell_type": "code",
   "execution_count": 5,
   "id": "dc1c790b",
   "metadata": {},
   "outputs": [],
   "source": [
    "vetor = np.array([1, 9, 8, 11, 12], float)"
   ]
  },
  {
   "cell_type": "code",
   "execution_count": 6,
   "id": "c397958f",
   "metadata": {},
   "outputs": [
    {
     "data": {
      "text/plain": [
       "1.0"
      ]
     },
     "execution_count": 6,
     "metadata": {},
     "output_type": "execute_result"
    }
   ],
   "source": [
    "vetor[0]"
   ]
  },
  {
   "cell_type": "code",
   "execution_count": 7,
   "id": "67edbf59",
   "metadata": {},
   "outputs": [
    {
     "data": {
      "text/plain": [
       "array([1, 2, 3, 4])"
      ]
     },
     "execution_count": 7,
     "metadata": {},
     "output_type": "execute_result"
    }
   ],
   "source": [
    "# podemos suar tuplas\n",
    "\n",
    "u = np.array((1, 2, 3, 4))\n",
    "u"
   ]
  },
  {
   "cell_type": "code",
   "execution_count": 8,
   "id": "c431c09b",
   "metadata": {},
   "outputs": [
    {
     "name": "stdout",
     "output_type": "stream",
     "text": [
      "[1. 2. 3.]\n",
      "<class 'numpy.ndarray'>\n"
     ]
    }
   ],
   "source": [
    "print(np_array)\n",
    "print(type(np_array))"
   ]
  },
  {
   "cell_type": "code",
   "execution_count": 9,
   "id": "686916e4",
   "metadata": {},
   "outputs": [
    {
     "data": {
      "text/plain": [
       "numpy.ndarray"
      ]
     },
     "execution_count": 9,
     "metadata": {},
     "output_type": "execute_result"
    }
   ],
   "source": [
    "# alguns atributos\n",
    "# verifica o tipo\n",
    "type(np_array)"
   ]
  },
  {
   "cell_type": "code",
   "execution_count": 10,
   "id": "de7e57ee",
   "metadata": {},
   "outputs": [
    {
     "data": {
      "text/plain": [
       "1"
      ]
     },
     "execution_count": 10,
     "metadata": {},
     "output_type": "execute_result"
    }
   ],
   "source": [
    "# numero de dimensoes\n",
    "# por ser um vetor, teremos como resultado 1 dimensão\n",
    "# quando trabalhamos com matrizes teremos 2 dimensões\n",
    "# a estrutura de um DataFrame terá 2 dimensões (linha, coluna)\n",
    "np_array.ndim"
   ]
  },
  {
   "cell_type": "code",
   "execution_count": 11,
   "id": "62650358",
   "metadata": {},
   "outputs": [
    {
     "data": {
      "text/plain": [
       "array([1., 2., 3.])"
      ]
     },
     "execution_count": 11,
     "metadata": {},
     "output_type": "execute_result"
    }
   ],
   "source": [
    "np_array"
   ]
  },
  {
   "cell_type": "code",
   "execution_count": 12,
   "id": "c2733b7b",
   "metadata": {},
   "outputs": [
    {
     "data": {
      "text/plain": [
       "(3,)"
      ]
     },
     "execution_count": 12,
     "metadata": {},
     "output_type": "execute_result"
    }
   ],
   "source": [
    "# shape\n",
    "np_array.shape"
   ]
  },
  {
   "cell_type": "code",
   "execution_count": 13,
   "id": "72abf959",
   "metadata": {},
   "outputs": [
    {
     "data": {
      "text/plain": [
       "3"
      ]
     },
     "execution_count": 13,
     "metadata": {},
     "output_type": "execute_result"
    }
   ],
   "source": [
    "# tamanho (numero de elementos)\n",
    "np_array.size"
   ]
  },
  {
   "cell_type": "code",
   "execution_count": 14,
   "id": "eb4c19ee",
   "metadata": {},
   "outputs": [
    {
     "data": {
      "text/plain": [
       "dtype('float64')"
      ]
     },
     "execution_count": 14,
     "metadata": {},
     "output_type": "execute_result"
    }
   ],
   "source": [
    "# checa o dtype\n",
    "np_array.dtype"
   ]
  },
  {
   "cell_type": "markdown",
   "id": "096036d2",
   "metadata": {},
   "source": [
    "Assim, como vimos os principais atributos do ndarray são:\n",
    "* os tipos de dados (dtype) \n",
    "* shape\n",
    "* size\n",
    "* ndim\n",
    "\n",
    "\n",
    "Atributo | Descrição\n",
    "----------|------------\n",
    "shape     | Tupla com o número de elementos de cada dimensão de vetor.\n",
    "ndim      | Número de dimensões\n",
    "nbytes    | Bytes usado para armazenar os dados em memória\n",
    "dtype     | Dtype dos elementos contidos no vetor"
   ]
  },
  {
   "cell_type": "code",
   "execution_count": 15,
   "id": "7cc5f47a",
   "metadata": {},
   "outputs": [],
   "source": [
    "# primeira matriz"
   ]
  },
  {
   "cell_type": "code",
   "execution_count": 16,
   "id": "73edf9aa",
   "metadata": {},
   "outputs": [
    {
     "name": "stdout",
     "output_type": "stream",
     "text": [
      "[[1 2 3]\n",
      " [4 5 6]\n",
      " [7 8 9]]\n",
      "Shape:  (3, 3)\n",
      "Dimensões:  2\n"
     ]
    }
   ],
   "source": [
    "dados = [[1, 2, 3],\n",
    "         [4, 5, 6],\n",
    "         [7, 8, 9]\n",
    "        ]\n",
    "\n",
    "array = np.array(dados)\n",
    "print(array)\n",
    "print('Shape: ', array.shape)\n",
    "print('Dimensões: ', array.ndim)"
   ]
  },
  {
   "cell_type": "markdown",
   "id": "757c35fd",
   "metadata": {},
   "source": [
    "**Essa matriz de dados parece com algo familiar?**"
   ]
  },
  {
   "cell_type": "code",
   "execution_count": 17,
   "id": "c67ac2db",
   "metadata": {},
   "outputs": [],
   "source": [
    "# Matriz transposta"
   ]
  },
  {
   "cell_type": "code",
   "execution_count": 18,
   "id": "4b432016",
   "metadata": {},
   "outputs": [
    {
     "name": "stdout",
     "output_type": "stream",
     "text": [
      "matriz inicial: \n",
      "[[ 10  20  30]\n",
      " [  3  50   5]\n",
      " [ 70  80  90]\n",
      " [100 110 120]]\n",
      "matriz transposta: \n",
      "[[ 10   3  70 100]\n",
      " [ 20  50  80 110]\n",
      " [ 30   5  90 120]]\n"
     ]
    }
   ],
   "source": [
    "matriz_inicial = np.array([[10, 20, 30],\n",
    "                           [3, 50, 5],\n",
    "                           [70, 80, 90],\n",
    "                           [100, 110, 120]])\n",
    "\n",
    "# Criando uma matriz Transposta\n",
    "matriz_transposta = matriz_inicial.T\n",
    "print('matriz inicial: ')\n",
    "print(matriz_inicial)\n",
    "\n",
    "\n",
    "print('matriz transposta: ')\n",
    "print(matriz_transposta)"
   ]
  },
  {
   "cell_type": "code",
   "execution_count": 19,
   "id": "8e81af4a",
   "metadata": {},
   "outputs": [],
   "source": [
    "# arrays de 1 e 0\n",
    "# zeros\n",
    "\n",
    "z = np.zeros((2, 3))\n",
    "\n",
    "# \n",
    "u = np.ones((3, 3), int)\n",
    "i = np.identity(2, float)"
   ]
  },
  {
   "cell_type": "code",
   "execution_count": 20,
   "id": "cd719337",
   "metadata": {},
   "outputs": [
    {
     "name": "stdout",
     "output_type": "stream",
     "text": [
      "[[0. 0. 0.]\n",
      " [0. 0. 0.]]\n"
     ]
    }
   ],
   "source": [
    "print(z)"
   ]
  },
  {
   "cell_type": "code",
   "execution_count": 21,
   "id": "447a63ee",
   "metadata": {},
   "outputs": [
    {
     "data": {
      "text/plain": [
       "array([[0., 0., 0.],\n",
       "       [0., 0., 0.],\n",
       "       [0., 0., 0.],\n",
       "       [0., 0., 0.]])"
      ]
     },
     "execution_count": 21,
     "metadata": {},
     "output_type": "execute_result"
    }
   ],
   "source": [
    "np.zeros(shape = (4, 3))"
   ]
  },
  {
   "cell_type": "code",
   "execution_count": 22,
   "id": "18709ec3",
   "metadata": {},
   "outputs": [
    {
     "data": {
      "text/plain": [
       "(2, 3)"
      ]
     },
     "execution_count": 22,
     "metadata": {},
     "output_type": "execute_result"
    }
   ],
   "source": [
    "z.shape"
   ]
  },
  {
   "cell_type": "code",
   "execution_count": 23,
   "id": "bc1f6ffb",
   "metadata": {},
   "outputs": [
    {
     "data": {
      "text/plain": [
       "2"
      ]
     },
     "execution_count": 23,
     "metadata": {},
     "output_type": "execute_result"
    }
   ],
   "source": [
    "z.ndim"
   ]
  },
  {
   "cell_type": "code",
   "execution_count": 24,
   "id": "93ca90e7",
   "metadata": {},
   "outputs": [
    {
     "data": {
      "text/plain": [
       "array([[1., 1., 1., 1., 1., 1., 1., 1., 1., 1., 1., 1., 1., 1., 1.],\n",
       "       [1., 1., 1., 1., 1., 1., 1., 1., 1., 1., 1., 1., 1., 1., 1.],\n",
       "       [1., 1., 1., 1., 1., 1., 1., 1., 1., 1., 1., 1., 1., 1., 1.],\n",
       "       [1., 1., 1., 1., 1., 1., 1., 1., 1., 1., 1., 1., 1., 1., 1.],\n",
       "       [1., 1., 1., 1., 1., 1., 1., 1., 1., 1., 1., 1., 1., 1., 1.],\n",
       "       [1., 1., 1., 1., 1., 1., 1., 1., 1., 1., 1., 1., 1., 1., 1.],\n",
       "       [1., 1., 1., 1., 1., 1., 1., 1., 1., 1., 1., 1., 1., 1., 1.],\n",
       "       [1., 1., 1., 1., 1., 1., 1., 1., 1., 1., 1., 1., 1., 1., 1.],\n",
       "       [1., 1., 1., 1., 1., 1., 1., 1., 1., 1., 1., 1., 1., 1., 1.],\n",
       "       [1., 1., 1., 1., 1., 1., 1., 1., 1., 1., 1., 1., 1., 1., 1.]])"
      ]
     },
     "execution_count": 24,
     "metadata": {},
     "output_type": "execute_result"
    }
   ],
   "source": [
    "np.ones(shape = (10, 15))"
   ]
  },
  {
   "cell_type": "code",
   "execution_count": 25,
   "id": "bb884142",
   "metadata": {},
   "outputs": [
    {
     "name": "stdout",
     "output_type": "stream",
     "text": [
      "[[1 1 1]\n",
      " [1 1 1]\n",
      " [1 1 1]]\n"
     ]
    }
   ],
   "source": [
    "print(u)"
   ]
  },
  {
   "cell_type": "code",
   "execution_count": 26,
   "id": "1ffb2ad4",
   "metadata": {},
   "outputs": [
    {
     "name": "stdout",
     "output_type": "stream",
     "text": [
      "[[1. 0.]\n",
      " [0. 1.]]\n"
     ]
    }
   ],
   "source": [
    "print(i)"
   ]
  },
  {
   "cell_type": "code",
   "execution_count": 27,
   "id": "12ec0428",
   "metadata": {},
   "outputs": [
    {
     "data": {
      "text/plain": [
       "array([[1., 0., 0., 0., 0., 0., 0., 0., 0., 0.],\n",
       "       [0., 1., 0., 0., 0., 0., 0., 0., 0., 0.],\n",
       "       [0., 0., 1., 0., 0., 0., 0., 0., 0., 0.],\n",
       "       [0., 0., 0., 1., 0., 0., 0., 0., 0., 0.],\n",
       "       [0., 0., 0., 0., 1., 0., 0., 0., 0., 0.],\n",
       "       [0., 0., 0., 0., 0., 1., 0., 0., 0., 0.],\n",
       "       [0., 0., 0., 0., 0., 0., 1., 0., 0., 0.],\n",
       "       [0., 0., 0., 0., 0., 0., 0., 1., 0., 0.],\n",
       "       [0., 0., 0., 0., 0., 0., 0., 0., 1., 0.],\n",
       "       [0., 0., 0., 0., 0., 0., 0., 0., 0., 1.]])"
      ]
     },
     "execution_count": 27,
     "metadata": {},
     "output_type": "execute_result"
    }
   ],
   "source": [
    "np.identity(10)"
   ]
  },
  {
   "cell_type": "markdown",
   "id": "e551196b",
   "metadata": {},
   "source": [
    "Se quisermos um array com um valor específico, usamos o ```np.full```"
   ]
  },
  {
   "cell_type": "code",
   "execution_count": 28,
   "id": "6f3b4902",
   "metadata": {},
   "outputs": [
    {
     "data": {
      "text/plain": [
       "array([[0.7, 0.7, 0.7],\n",
       "       [0.7, 0.7, 0.7]])"
      ]
     },
     "execution_count": 28,
     "metadata": {},
     "output_type": "execute_result"
    }
   ],
   "source": [
    "np.full((2, 3), 0.7)"
   ]
  },
  {
   "cell_type": "code",
   "execution_count": 29,
   "id": "55925b41",
   "metadata": {},
   "outputs": [
    {
     "data": {
      "text/plain": [
       "array([[5, 5, 5],\n",
       "       [5, 5, 5],\n",
       "       [5, 5, 5]])"
      ]
     },
     "execution_count": 29,
     "metadata": {},
     "output_type": "execute_result"
    }
   ],
   "source": [
    "np.full(shape = (3, 3), fill_value = 5)"
   ]
  },
  {
   "cell_type": "markdown",
   "id": "3c2a1d46",
   "metadata": {},
   "source": [
    "* Outras funções para criar arrays"
   ]
  },
  {
   "cell_type": "code",
   "execution_count": 30,
   "id": "fb5f73df",
   "metadata": {},
   "outputs": [],
   "source": [
    "# np.arange\n",
    "# similar a função nativa range(), mas diferente!\n",
    "# no caso do range() nativo do Python não podemos usar número float como step\n",
    "# retorna uma sequência de números"
   ]
  },
  {
   "cell_type": "code",
   "execution_count": 31,
   "id": "073477d0",
   "metadata": {},
   "outputs": [],
   "source": [
    "#list(range(1, 11, 2.5))\n",
    "#TypeError: 'float' object cannot be interpreted as an integer"
   ]
  },
  {
   "cell_type": "code",
   "execution_count": 32,
   "id": "01fac21f",
   "metadata": {},
   "outputs": [],
   "source": [
    "#np.arange(1, 101, 2)"
   ]
  },
  {
   "cell_type": "code",
   "execution_count": 33,
   "id": "4fa91355",
   "metadata": {},
   "outputs": [],
   "source": [
    "#np.arange(1, 11, 0.1)"
   ]
  },
  {
   "cell_type": "code",
   "execution_count": 34,
   "id": "cfa29a15",
   "metadata": {},
   "outputs": [
    {
     "data": {
      "text/plain": [
       "array([90, 39, 23, 27, 22, 39, 63, 32, 32, 77])"
      ]
     },
     "execution_count": 34,
     "metadata": {},
     "output_type": "execute_result"
    }
   ],
   "source": [
    "np.random.randint(1, 100, 10)"
   ]
  },
  {
   "cell_type": "code",
   "execution_count": 35,
   "id": "3ae6e376",
   "metadata": {},
   "outputs": [
    {
     "data": {
      "text/plain": [
       "array([1, 2, 3, 4, 5, 6, 7, 8, 9])"
      ]
     },
     "execution_count": 35,
     "metadata": {},
     "output_type": "execute_result"
    }
   ],
   "source": [
    "vetor1 = np.arange(1, 10, 1)\n",
    "vetor1"
   ]
  },
  {
   "cell_type": "code",
   "execution_count": 36,
   "id": "5ab7f809",
   "metadata": {},
   "outputs": [
    {
     "data": {
      "text/plain": [
       "array([ 1. ,  1.5,  2. ,  2.5,  3. ,  3.5,  4. ,  4.5,  5. ,  5.5,  6. ,\n",
       "        6.5,  7. ,  7.5,  8. ,  8.5,  9. ,  9.5, 10. , 10.5, 11. , 11.5,\n",
       "       12. , 12.5, 13. , 13.5, 14. , 14.5, 15. , 15.5, 16. , 16.5, 17. ,\n",
       "       17.5, 18. , 18.5, 19. , 19.5, 20. , 20.5, 21. , 21.5, 22. , 22.5,\n",
       "       23. , 23.5, 24. , 24.5, 25. , 25.5, 26. , 26.5, 27. , 27.5, 28. ,\n",
       "       28.5, 29. , 29.5, 30. , 30.5, 31. , 31.5, 32. , 32.5, 33. , 33.5,\n",
       "       34. , 34.5, 35. , 35.5, 36. , 36.5, 37. , 37.5, 38. , 38.5, 39. ,\n",
       "       39.5, 40. , 40.5, 41. , 41.5, 42. , 42.5, 43. , 43.5, 44. , 44.5,\n",
       "       45. , 45.5, 46. , 46.5, 47. , 47.5, 48. , 48.5, 49. , 49.5])"
      ]
     },
     "execution_count": 36,
     "metadata": {},
     "output_type": "execute_result"
    }
   ],
   "source": [
    "vetor2 = np.arange(1, 50, 0.5)\n",
    "vetor2"
   ]
  },
  {
   "cell_type": "code",
   "execution_count": 37,
   "id": "fa1aca48",
   "metadata": {},
   "outputs": [],
   "source": [
    "# np.linspace\n",
    "# retorna número igualmente espaçados dentro de um intervalo numérico"
   ]
  },
  {
   "cell_type": "code",
   "execution_count": 38,
   "id": "5f595f7e",
   "metadata": {},
   "outputs": [
    {
     "data": {
      "text/plain": [
       "array([ 1.  ,  3.25,  5.5 ,  7.75, 10.  ])"
      ]
     },
     "execution_count": 38,
     "metadata": {},
     "output_type": "execute_result"
    }
   ],
   "source": [
    "vetor3 = np.linspace(1, 10, 5)\n",
    "vetor3"
   ]
  },
  {
   "cell_type": "code",
   "execution_count": 39,
   "id": "9f626701",
   "metadata": {},
   "outputs": [],
   "source": [
    "# np.linspace(1, 50, 10)"
   ]
  },
  {
   "cell_type": "markdown",
   "id": "eb93cc19",
   "metadata": {},
   "source": [
    "Vejamos um sumário das principais funções para criar arrays com NumPy."
   ]
  },
  {
   "cell_type": "code",
   "execution_count": 40,
   "id": "f36f50f2",
   "metadata": {},
   "outputs": [
    {
     "data": {
      "text/plain": [
       "array([[0, 0, 0],\n",
       "       [0, 1, 0],\n",
       "       [0, 0, 2]])"
      ]
     },
     "execution_count": 40,
     "metadata": {},
     "output_type": "execute_result"
    }
   ],
   "source": [
    "np.diag([0, 1, 2])"
   ]
  },
  {
   "cell_type": "code",
   "execution_count": 41,
   "id": "06787c8a",
   "metadata": {},
   "outputs": [
    {
     "data": {
      "text/plain": [
       "array([[ 5,  0,  0,  0,  0,  0,  0,  0,  0,  0],\n",
       "       [ 0, 10,  0,  0,  0,  0,  0,  0,  0,  0],\n",
       "       [ 0,  0, 15,  0,  0,  0,  0,  0,  0,  0],\n",
       "       [ 0,  0,  0, 20,  0,  0,  0,  0,  0,  0],\n",
       "       [ 0,  0,  0,  0, 25,  0,  0,  0,  0,  0],\n",
       "       [ 0,  0,  0,  0,  0, 30,  0,  0,  0,  0],\n",
       "       [ 0,  0,  0,  0,  0,  0, 35,  0,  0,  0],\n",
       "       [ 0,  0,  0,  0,  0,  0,  0, 40,  0,  0],\n",
       "       [ 0,  0,  0,  0,  0,  0,  0,  0, 45,  0],\n",
       "       [ 0,  0,  0,  0,  0,  0,  0,  0,  0, 50]])"
      ]
     },
     "execution_count": 41,
     "metadata": {},
     "output_type": "execute_result"
    }
   ],
   "source": [
    "np.diag(np.arange(5, 51, 5))"
   ]
  },
  {
   "cell_type": "code",
   "execution_count": 42,
   "id": "f8e836e8",
   "metadata": {},
   "outputs": [
    {
     "data": {
      "text/plain": [
       "array([2.00000000e+00, 5.64316032e+07, 1.59226292e+15, 4.49269746e+22,\n",
       "       1.26765060e+30])"
      ]
     },
     "execution_count": 42,
     "metadata": {},
     "output_type": "execute_result"
    }
   ],
   "source": [
    "np.logspace(1, 100, 5, base = 2)"
   ]
  },
  {
   "cell_type": "markdown",
   "id": "28a24bfa",
   "metadata": {},
   "source": [
    "``Sumário``\n",
    "\n",
    "Function Name | Type of Array\n",
    "--------------|--------------\n",
    "np.array      | Create an array frm list, tuple, or iterable sequence, or another ndarray instance.\n",
    "np.zeros      | Return a new array of given shape and type, filled with zeros.\n",
    "np.ones       | Return a new array of given shape and type, filled with ones.\n",
    "np.diag       | Creates a diagonal array with specified values along the diagonal and zeros elsewhere.\n",
    "np.arange     | Return evenly spaced values within a given interval.\n",
    "np.linspace   | Return evenly spaced numbers over a specified interval.\n",
    "np.logspace   | Return numbers spaced evenly on a log scale.\n"
   ]
  },
  {
   "cell_type": "markdown",
   "id": "1886c5a0",
   "metadata": {},
   "source": [
    "## Manipulação das dimensões de um array"
   ]
  },
  {
   "cell_type": "code",
   "execution_count": 43,
   "id": "d068418a",
   "metadata": {},
   "outputs": [],
   "source": [
    "narray = np.full((2, 6), 1)"
   ]
  },
  {
   "cell_type": "code",
   "execution_count": 44,
   "id": "f3e4157b",
   "metadata": {},
   "outputs": [
    {
     "data": {
      "text/plain": [
       "array([[1, 1, 1, 1, 1, 1],\n",
       "       [1, 1, 1, 1, 1, 1]])"
      ]
     },
     "execution_count": 44,
     "metadata": {},
     "output_type": "execute_result"
    }
   ],
   "source": [
    "narray"
   ]
  },
  {
   "cell_type": "code",
   "execution_count": 45,
   "id": "b3172c6d",
   "metadata": {},
   "outputs": [
    {
     "data": {
      "text/plain": [
       "(6, 2)"
      ]
     },
     "execution_count": 45,
     "metadata": {},
     "output_type": "execute_result"
    }
   ],
   "source": [
    "# Transposta\n",
    "narray.T.shape"
   ]
  },
  {
   "cell_type": "code",
   "execution_count": 46,
   "id": "eb8c6ce8",
   "metadata": {},
   "outputs": [
    {
     "data": {
      "text/plain": [
       "(2, 6)"
      ]
     },
     "execution_count": 46,
     "metadata": {},
     "output_type": "execute_result"
    }
   ],
   "source": [
    "narray.shape"
   ]
  },
  {
   "cell_type": "code",
   "execution_count": 47,
   "id": "ceebde27",
   "metadata": {},
   "outputs": [],
   "source": [
    "n = narray.shape[0] # linhas\n",
    "m = narray.shape[1] # colunas"
   ]
  },
  {
   "cell_type": "code",
   "execution_count": 48,
   "id": "0235e44a",
   "metadata": {},
   "outputs": [
    {
     "name": "stdout",
     "output_type": "stream",
     "text": [
      "12\n"
     ]
    }
   ],
   "source": [
    "produto = n * m\n",
    "print(produto)"
   ]
  },
  {
   "cell_type": "markdown",
   "id": "9d8d8c28",
   "metadata": {},
   "source": [
    "possibilidades:\n",
    "- 3*4\n",
    "- 6*2\n",
    "- 4*3\n",
    "- 1*12"
   ]
  },
  {
   "cell_type": "code",
   "execution_count": 49,
   "id": "0e834cad",
   "metadata": {},
   "outputs": [
    {
     "data": {
      "text/plain": [
       "array([[1, 1, 1, 1],\n",
       "       [1, 1, 1, 1],\n",
       "       [1, 1, 1, 1]])"
      ]
     },
     "execution_count": 49,
     "metadata": {},
     "output_type": "execute_result"
    }
   ],
   "source": [
    "narray.reshape(3, 4)"
   ]
  },
  {
   "cell_type": "code",
   "execution_count": 50,
   "id": "556cc565",
   "metadata": {},
   "outputs": [
    {
     "data": {
      "text/plain": [
       "array([[1, 1, 1, 1],\n",
       "       [1, 1, 1, 1],\n",
       "       [1, 1, 1, 1]])"
      ]
     },
     "execution_count": 50,
     "metadata": {},
     "output_type": "execute_result"
    }
   ],
   "source": [
    "narray.reshape(3, 4)"
   ]
  },
  {
   "cell_type": "code",
   "execution_count": 51,
   "id": "5435af1d",
   "metadata": {},
   "outputs": [
    {
     "data": {
      "text/plain": [
       "array([[1, 1, 1, 1, 1, 1],\n",
       "       [1, 1, 1, 1, 1, 1]])"
      ]
     },
     "execution_count": 51,
     "metadata": {},
     "output_type": "execute_result"
    }
   ],
   "source": [
    "narray.reshape(2, 6)"
   ]
  },
  {
   "cell_type": "code",
   "execution_count": 52,
   "id": "fb8579a1",
   "metadata": {},
   "outputs": [
    {
     "data": {
      "text/plain": [
       "array([[1],\n",
       "       [1],\n",
       "       [1],\n",
       "       [1],\n",
       "       [1],\n",
       "       [1],\n",
       "       [1],\n",
       "       [1],\n",
       "       [1],\n",
       "       [1],\n",
       "       [1],\n",
       "       [1]])"
      ]
     },
     "execution_count": 52,
     "metadata": {},
     "output_type": "execute_result"
    }
   ],
   "source": [
    "narray.reshape(12, 1)"
   ]
  },
  {
   "cell_type": "code",
   "execution_count": 53,
   "id": "f8715f09",
   "metadata": {},
   "outputs": [
    {
     "data": {
      "text/plain": [
       "array([[1, 1, 1, 1, 1, 1, 1, 1, 1, 1, 1, 1]])"
      ]
     },
     "execution_count": 53,
     "metadata": {},
     "output_type": "execute_result"
    }
   ],
   "source": [
    "narray.reshape(1, 12)"
   ]
  },
  {
   "cell_type": "markdown",
   "id": "1c5977ce",
   "metadata": {},
   "source": [
    "O comando ravel distorce o array multidimensional e o transforma em um array 1D."
   ]
  },
  {
   "cell_type": "code",
   "execution_count": 54,
   "id": "713f3ee5",
   "metadata": {},
   "outputs": [
    {
     "data": {
      "text/plain": [
       "array([[0.45, 0.45, 0.45, 0.45, 0.45, 0.45],\n",
       "       [0.45, 0.45, 0.45, 0.45, 0.45, 0.45]])"
      ]
     },
     "execution_count": 54,
     "metadata": {},
     "output_type": "execute_result"
    }
   ],
   "source": [
    "# ravel\n",
    "narray = np.full((2, 6), 0.45)\n",
    "narray"
   ]
  },
  {
   "cell_type": "code",
   "execution_count": 55,
   "id": "0955136b",
   "metadata": {},
   "outputs": [
    {
     "data": {
      "text/plain": [
       "array([0.45, 0.45, 0.45, 0.45, 0.45, 0.45, 0.45, 0.45, 0.45, 0.45, 0.45,\n",
       "       0.45])"
      ]
     },
     "execution_count": 55,
     "metadata": {},
     "output_type": "execute_result"
    }
   ],
   "source": [
    "narray.ravel()"
   ]
  },
  {
   "cell_type": "markdown",
   "id": "e9c4d3bd",
   "metadata": {},
   "source": [
    "## Fatiamento em arrays"
   ]
  },
  {
   "cell_type": "code",
   "execution_count": 56,
   "id": "0173fdc0",
   "metadata": {},
   "outputs": [],
   "source": [
    "lista = [[0, 1, 2, 3], [4, 5, 6, 7], [8, 9, 10, 11]]"
   ]
  },
  {
   "cell_type": "code",
   "execution_count": 57,
   "id": "44792fff",
   "metadata": {},
   "outputs": [],
   "source": [
    "# monta a matriz\n",
    "mat = np.array(lista)"
   ]
  },
  {
   "cell_type": "code",
   "execution_count": 58,
   "id": "0f8bbe40",
   "metadata": {},
   "outputs": [
    {
     "data": {
      "text/plain": [
       "array([[ 0,  1,  2,  3],\n",
       "       [ 4,  5,  6,  7],\n",
       "       [ 8,  9, 10, 11]])"
      ]
     },
     "execution_count": 58,
     "metadata": {},
     "output_type": "execute_result"
    }
   ],
   "source": [
    "mat"
   ]
  },
  {
   "cell_type": "code",
   "execution_count": 59,
   "id": "0a060790",
   "metadata": {},
   "outputs": [
    {
     "data": {
      "text/plain": [
       "0"
      ]
     },
     "execution_count": 59,
     "metadata": {},
     "output_type": "execute_result"
    }
   ],
   "source": [
    "# pega o elemento da linha 0 e índice da coluna 0\n",
    "mat[0, 0]"
   ]
  },
  {
   "cell_type": "code",
   "execution_count": 60,
   "id": "ddd0aabe",
   "metadata": {},
   "outputs": [
    {
     "data": {
      "text/plain": [
       "1"
      ]
     },
     "execution_count": 60,
     "metadata": {},
     "output_type": "execute_result"
    }
   ],
   "source": [
    "# pega o elemento da linha 0 e índice da coluna 1\n",
    "mat[0, 1]"
   ]
  },
  {
   "cell_type": "code",
   "execution_count": 61,
   "id": "6615d964",
   "metadata": {},
   "outputs": [
    {
     "data": {
      "text/plain": [
       "array([0, 1, 2, 3])"
      ]
     },
     "execution_count": 61,
     "metadata": {},
     "output_type": "execute_result"
    }
   ],
   "source": [
    "# pega todos os elementos da linha 0\n",
    "mat[0,:]"
   ]
  },
  {
   "cell_type": "code",
   "execution_count": 62,
   "id": "20859132",
   "metadata": {},
   "outputs": [
    {
     "data": {
      "text/plain": [
       "array([0, 4, 8])"
      ]
     },
     "execution_count": 62,
     "metadata": {},
     "output_type": "execute_result"
    }
   ],
   "source": [
    "# pega todos os elementos da coluna 0\n",
    "mat[:,0]"
   ]
  },
  {
   "cell_type": "code",
   "execution_count": 63,
   "id": "1c8cf471",
   "metadata": {},
   "outputs": [
    {
     "data": {
      "text/plain": [
       "array([ 2,  6, 10])"
      ]
     },
     "execution_count": 63,
     "metadata": {},
     "output_type": "execute_result"
    }
   ],
   "source": [
    "# pega todos os elementos da coluna 2\n",
    "mat[:,2]"
   ]
  }
 ],
 "metadata": {
  "kernelspec": {
   "display_name": "Python 3 (ipykernel)",
   "language": "python",
   "name": "python3"
  },
  "language_info": {
   "codemirror_mode": {
    "name": "ipython",
    "version": 3
   },
   "file_extension": ".py",
   "mimetype": "text/x-python",
   "name": "python",
   "nbconvert_exporter": "python",
   "pygments_lexer": "ipython3",
   "version": "3.9.12"
  }
 },
 "nbformat": 4,
 "nbformat_minor": 5
}
