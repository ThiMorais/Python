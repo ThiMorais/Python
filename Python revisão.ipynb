{
 "cells": [
  {
   "cell_type": "markdown",
   "id": "d22cd52c",
   "metadata": {},
   "source": [
    "# Revisão Python"
   ]
  },
  {
   "cell_type": "markdown",
   "id": "6ffaa42e",
   "metadata": {},
   "source": [
    "## Variáveis"
   ]
  },
  {
   "cell_type": "code",
   "execution_count": 1,
   "id": "e979d226",
   "metadata": {},
   "outputs": [
    {
     "name": "stdout",
     "output_type": "stream",
     "text": [
      "Python\n"
     ]
    }
   ],
   "source": [
    "nome = 'Python'\n",
    "print(nome)"
   ]
  },
  {
   "cell_type": "code",
   "execution_count": 2,
   "id": "226eced8",
   "metadata": {},
   "outputs": [],
   "source": [
    "# podemos definir uma variáveil \n",
    "ano = 2020"
   ]
  },
  {
   "cell_type": "code",
   "execution_count": 3,
   "id": "4732cd5b",
   "metadata": {},
   "outputs": [
    {
     "name": "stdout",
     "output_type": "stream",
     "text": [
      "2020\n"
     ]
    }
   ],
   "source": [
    "# exibir o valor da variável\n",
    "print(ano)"
   ]
  },
  {
   "cell_type": "code",
   "execution_count": 4,
   "id": "43c77b45",
   "metadata": {},
   "outputs": [
    {
     "ename": "NameError",
     "evalue": "name 'ano_2021' is not defined",
     "output_type": "error",
     "traceback": [
      "\u001b[1;31m---------------------------------------------------------------------------\u001b[0m",
      "\u001b[1;31mNameError\u001b[0m                                 Traceback (most recent call last)",
      "Input \u001b[1;32mIn [4]\u001b[0m, in \u001b[0;36m<cell line: 2>\u001b[1;34m()\u001b[0m\n\u001b[0;32m      1\u001b[0m \u001b[38;5;66;03m# NameError\u001b[39;00m\n\u001b[1;32m----> 2\u001b[0m \u001b[38;5;28mprint\u001b[39m(\u001b[43mano_2021\u001b[49m)\n",
      "\u001b[1;31mNameError\u001b[0m: name 'ano_2021' is not defined"
     ]
    }
   ],
   "source": [
    "# NameError\n",
    "print(ano_2021)"
   ]
  },
  {
   "cell_type": "code",
   "execution_count": null,
   "id": "f473aacf",
   "metadata": {},
   "outputs": [],
   "source": [
    "print(2020) # exibirá o valor\n",
    "print(ano)  # exibirá o resultado gravado"
   ]
  },
  {
   "cell_type": "code",
   "execution_count": 5,
   "id": "235c87cc",
   "metadata": {},
   "outputs": [
    {
     "name": "stdout",
     "output_type": "stream",
     "text": [
      "23\n",
      "24\n"
     ]
    }
   ],
   "source": [
    "idade = 23\n",
    "print(idade)\n",
    "idade = 24\n",
    "print(idade)"
   ]
  },
  {
   "cell_type": "code",
   "execution_count": 6,
   "id": "5b53c0a9",
   "metadata": {},
   "outputs": [
    {
     "ename": "SyntaxError",
     "evalue": "invalid syntax (3741012024.py, line 2)",
     "output_type": "error",
     "traceback": [
      "\u001b[1;36m  Input \u001b[1;32mIn [6]\u001b[1;36m\u001b[0m\n\u001b[1;33m    idade pai = 60\u001b[0m\n\u001b[1;37m          ^\u001b[0m\n\u001b[1;31mSyntaxError\u001b[0m\u001b[1;31m:\u001b[0m invalid syntax\n"
     ]
    }
   ],
   "source": [
    "# erro de sintaxe\n",
    "idade pai = 60"
   ]
  },
  {
   "cell_type": "code",
   "execution_count": 7,
   "id": "c42f8323",
   "metadata": {},
   "outputs": [
    {
     "ename": "SyntaxError",
     "evalue": "invalid decimal literal (4023900715.py, line 2)",
     "output_type": "error",
     "traceback": [
      "\u001b[1;36m  Input \u001b[1;32mIn [7]\u001b[1;36m\u001b[0m\n\u001b[1;33m    2020_ano = 90\u001b[0m\n\u001b[1;37m        ^\u001b[0m\n\u001b[1;31mSyntaxError\u001b[0m\u001b[1;31m:\u001b[0m invalid decimal literal\n"
     ]
    }
   ],
   "source": [
    "# erro de sintaxe\n",
    "2020_ano = 90"
   ]
  },
  {
   "cell_type": "code",
   "execution_count": 8,
   "id": "6c622ef0",
   "metadata": {},
   "outputs": [],
   "source": [
    "# snake case\n",
    "idade_pai = 60\n",
    "paises_visitados = 90"
   ]
  },
  {
   "cell_type": "code",
   "execution_count": 9,
   "id": "7772c238",
   "metadata": {},
   "outputs": [],
   "source": [
    "# constantes \n",
    "pi = 3.14159"
   ]
  },
  {
   "cell_type": "code",
   "execution_count": 10,
   "id": "23c7e15a",
   "metadata": {},
   "outputs": [],
   "source": [
    "id_cliente = 1\n",
    "nome_cliente = 'Thiago'"
   ]
  },
  {
   "cell_type": "code",
   "execution_count": 11,
   "id": "a4920cb1",
   "metadata": {},
   "outputs": [
    {
     "ename": "SyntaxError",
     "evalue": "invalid syntax (3735080033.py, line 3)",
     "output_type": "error",
     "traceback": [
      "\u001b[1;36m  Input \u001b[1;32mIn [11]\u001b[1;36m\u001b[0m\n\u001b[1;33m    for = 1\u001b[0m\n\u001b[1;37m        ^\u001b[0m\n\u001b[1;31mSyntaxError\u001b[0m\u001b[1;31m:\u001b[0m invalid syntax\n"
     ]
    }
   ],
   "source": [
    "# erro de sintaxe - key word python\n",
    "\n",
    "for = 1"
   ]
  },
  {
   "cell_type": "code",
   "execution_count": 12,
   "id": "fecda49d",
   "metadata": {},
   "outputs": [
    {
     "ename": "SyntaxError",
     "evalue": "invalid syntax (762887504.py, line 2)",
     "output_type": "error",
     "traceback": [
      "\u001b[1;36m  Input \u001b[1;32mIn [12]\u001b[1;36m\u001b[0m\n\u001b[1;33m    lambda = 1\u001b[0m\n\u001b[1;37m           ^\u001b[0m\n\u001b[1;31mSyntaxError\u001b[0m\u001b[1;31m:\u001b[0m invalid syntax\n"
     ]
    }
   ],
   "source": [
    "# erro de sintaxe\n",
    "lambda = 1"
   ]
  },
  {
   "cell_type": "code",
   "execution_count": 13,
   "id": "883fc364",
   "metadata": {},
   "outputs": [
    {
     "data": {
      "text/plain": [
       "int"
      ]
     },
     "execution_count": 13,
     "metadata": {},
     "output_type": "execute_result"
    }
   ],
   "source": [
    "## Tipos de variáveis\n",
    "# inteiros\n",
    "numero_laranjas = 10\n",
    "# verificando o tipo de uma variável\n",
    "type(numero_laranjas)"
   ]
  },
  {
   "cell_type": "code",
   "execution_count": 14,
   "id": "077d45d0",
   "metadata": {},
   "outputs": [
    {
     "data": {
      "text/plain": [
       "float"
      ]
     },
     "execution_count": 14,
     "metadata": {},
     "output_type": "execute_result"
    }
   ],
   "source": [
    "# floats\n",
    "nota_prova = 9.5\n",
    "# verificando o tipo\n",
    "type(nota_prova)"
   ]
  },
  {
   "cell_type": "code",
   "execution_count": 15,
   "id": "e7fcf98f",
   "metadata": {},
   "outputs": [
    {
     "data": {
      "text/plain": [
       "str"
      ]
     },
     "execution_count": 15,
     "metadata": {},
     "output_type": "execute_result"
    }
   ],
   "source": [
    "# Strings\n",
    "nome_funcionario = 'Thiago'\n",
    "# verificando o tipo\n",
    "type(nome_funcionario)"
   ]
  },
  {
   "cell_type": "code",
   "execution_count": 16,
   "id": "916d9cec",
   "metadata": {},
   "outputs": [
    {
     "data": {
      "text/plain": [
       "str"
      ]
     },
     "execution_count": 16,
     "metadata": {},
     "output_type": "execute_result"
    }
   ],
   "source": [
    "nome_vendedor = 'Gil'\n",
    "type(nome_vendedor)"
   ]
  },
  {
   "cell_type": "code",
   "execution_count": 17,
   "id": "69d82431",
   "metadata": {},
   "outputs": [
    {
     "name": "stdout",
     "output_type": "stream",
     "text": [
      "True\n",
      "------------------------------------------------------------\n",
      "<class 'bool'>\n"
     ]
    }
   ],
   "source": [
    "# boleanos \n",
    "status_logado = True\n",
    "print(status_logado)\n",
    "print('------' * 10)\n",
    "status_logado = False\n",
    "print(type(status_logado))"
   ]
  },
  {
   "cell_type": "code",
   "execution_count": 18,
   "id": "50a0b133",
   "metadata": {},
   "outputs": [
    {
     "data": {
      "text/plain": [
       "['__abs__',\n",
       " '__add__',\n",
       " '__and__',\n",
       " '__bool__',\n",
       " '__ceil__',\n",
       " '__class__',\n",
       " '__delattr__',\n",
       " '__dir__',\n",
       " '__divmod__',\n",
       " '__doc__',\n",
       " '__eq__',\n",
       " '__float__',\n",
       " '__floor__',\n",
       " '__floordiv__',\n",
       " '__format__',\n",
       " '__ge__',\n",
       " '__getattribute__',\n",
       " '__getnewargs__',\n",
       " '__gt__',\n",
       " '__hash__',\n",
       " '__index__',\n",
       " '__init__',\n",
       " '__init_subclass__',\n",
       " '__int__',\n",
       " '__invert__',\n",
       " '__le__',\n",
       " '__lshift__',\n",
       " '__lt__',\n",
       " '__mod__',\n",
       " '__mul__',\n",
       " '__ne__',\n",
       " '__neg__',\n",
       " '__new__',\n",
       " '__or__',\n",
       " '__pos__',\n",
       " '__pow__',\n",
       " '__radd__',\n",
       " '__rand__',\n",
       " '__rdivmod__',\n",
       " '__reduce__',\n",
       " '__reduce_ex__',\n",
       " '__repr__',\n",
       " '__rfloordiv__',\n",
       " '__rlshift__',\n",
       " '__rmod__',\n",
       " '__rmul__',\n",
       " '__ror__',\n",
       " '__round__',\n",
       " '__rpow__',\n",
       " '__rrshift__',\n",
       " '__rshift__',\n",
       " '__rsub__',\n",
       " '__rtruediv__',\n",
       " '__rxor__',\n",
       " '__setattr__',\n",
       " '__sizeof__',\n",
       " '__str__',\n",
       " '__sub__',\n",
       " '__subclasshook__',\n",
       " '__truediv__',\n",
       " '__trunc__',\n",
       " '__xor__',\n",
       " 'as_integer_ratio',\n",
       " 'bit_length',\n",
       " 'conjugate',\n",
       " 'denominator',\n",
       " 'from_bytes',\n",
       " 'imag',\n",
       " 'numerator',\n",
       " 'real',\n",
       " 'to_bytes']"
      ]
     },
     "execution_count": 18,
     "metadata": {},
     "output_type": "execute_result"
    }
   ],
   "source": [
    "numero = 20\n",
    "dir(numero)"
   ]
  },
  {
   "cell_type": "code",
   "execution_count": 19,
   "id": "d9f34be3",
   "metadata": {},
   "outputs": [
    {
     "data": {
      "text/plain": [
       "20"
      ]
     },
     "execution_count": 19,
     "metadata": {},
     "output_type": "execute_result"
    }
   ],
   "source": [
    "numero.real"
   ]
  },
  {
   "cell_type": "markdown",
   "id": "226fde84",
   "metadata": {},
   "source": [
    "## Operações matemáticas"
   ]
  },
  {
   "cell_type": "code",
   "execution_count": 20,
   "id": "3dceff30",
   "metadata": {},
   "outputs": [
    {
     "data": {
      "text/plain": [
       "3.0"
      ]
     },
     "execution_count": 20,
     "metadata": {},
     "output_type": "execute_result"
    }
   ],
   "source": [
    "# Qual o  resultado\n",
    "1 + 3 * 4 / 3 - 2"
   ]
  },
  {
   "cell_type": "code",
   "execution_count": 21,
   "id": "e8e449da",
   "metadata": {},
   "outputs": [
    {
     "data": {
      "text/plain": [
       "16.0"
      ]
     },
     "execution_count": 21,
     "metadata": {},
     "output_type": "execute_result"
    }
   ],
   "source": [
    "# qual o resutado\n",
    "(1 + 3) * 4 / (3 - 2)"
   ]
  },
  {
   "cell_type": "code",
   "execution_count": 22,
   "id": "b88a5bcf",
   "metadata": {},
   "outputs": [
    {
     "name": "stdout",
     "output_type": "stream",
     "text": [
      "28.26\n"
     ]
    }
   ],
   "source": [
    "# area do círculo\n",
    "pi = 3.14\n",
    "raio = 3\n",
    "area = pi * raio ** 2 #  ** = a potenciação\n",
    "print(area)"
   ]
  },
  {
   "cell_type": "code",
   "execution_count": 23,
   "id": "66d4d6cd",
   "metadata": {},
   "outputs": [
    {
     "data": {
      "text/plain": [
       "2"
      ]
     },
     "execution_count": 23,
     "metadata": {},
     "output_type": "execute_result"
    }
   ],
   "source": [
    "# resto de divisão\n",
    "18%8"
   ]
  },
  {
   "cell_type": "code",
   "execution_count": 24,
   "id": "7fd8dc69",
   "metadata": {},
   "outputs": [
    {
     "data": {
      "text/plain": [
       "1"
      ]
     },
     "execution_count": 24,
     "metadata": {},
     "output_type": "execute_result"
    }
   ],
   "source": [
    "5%2"
   ]
  },
  {
   "cell_type": "code",
   "execution_count": 25,
   "id": "1a243c0e",
   "metadata": {},
   "outputs": [
    {
     "data": {
      "text/plain": [
       "50"
      ]
     },
     "execution_count": 25,
     "metadata": {},
     "output_type": "execute_result"
    }
   ],
   "source": [
    "10 * 5"
   ]
  },
  {
   "cell_type": "code",
   "execution_count": 26,
   "id": "af9d0f50",
   "metadata": {},
   "outputs": [
    {
     "data": {
      "text/plain": [
       "5.0"
      ]
     },
     "execution_count": 26,
     "metadata": {},
     "output_type": "execute_result"
    }
   ],
   "source": [
    "50 / 10"
   ]
  },
  {
   "cell_type": "code",
   "execution_count": 27,
   "id": "858abb92",
   "metadata": {},
   "outputs": [
    {
     "data": {
      "text/plain": [
       "27"
      ]
     },
     "execution_count": 27,
     "metadata": {},
     "output_type": "execute_result"
    }
   ],
   "source": [
    "3**3"
   ]
  },
  {
   "cell_type": "code",
   "execution_count": 28,
   "id": "2b338e6e",
   "metadata": {},
   "outputs": [
    {
     "data": {
      "text/plain": [
       "2.5198420997897464"
      ]
     },
     "execution_count": 28,
     "metadata": {},
     "output_type": "execute_result"
    }
   ],
   "source": [
    "4 ** (2/3)"
   ]
  },
  {
   "cell_type": "code",
   "execution_count": 29,
   "id": "098a651d",
   "metadata": {},
   "outputs": [
    {
     "data": {
      "text/plain": [
       "4.0"
      ]
     },
     "execution_count": 29,
     "metadata": {},
     "output_type": "execute_result"
    }
   ],
   "source": [
    "# parte inteira da divisão\n",
    "24//5.3"
   ]
  },
  {
   "cell_type": "code",
   "execution_count": 30,
   "id": "58d4dfd2",
   "metadata": {},
   "outputs": [
    {
     "data": {
      "text/plain": [
       "4"
      ]
     },
     "execution_count": 30,
     "metadata": {},
     "output_type": "execute_result"
    }
   ],
   "source": [
    "int(24//5.3)"
   ]
  },
  {
   "cell_type": "code",
   "execution_count": 31,
   "id": "4fb13b27",
   "metadata": {},
   "outputs": [
    {
     "data": {
      "text/plain": [
       "4.528301886792453"
      ]
     },
     "execution_count": 31,
     "metadata": {},
     "output_type": "execute_result"
    }
   ],
   "source": [
    "# resultado da divisão\n",
    "24/5.3"
   ]
  },
  {
   "cell_type": "markdown",
   "id": "ffb69fa5",
   "metadata": {},
   "source": [
    "## Strings"
   ]
  },
  {
   "cell_type": "code",
   "execution_count": 32,
   "id": "5883341b",
   "metadata": {},
   "outputs": [],
   "source": [
    "# aspas simples\n",
    "minha_string_single_quote = 'Meu nome é: '\n",
    "# aspas duplas\n",
    "minha_string_double_quote = 'Meu nome é: '\n",
    "# aspas triplas\n",
    "minha_string_multiline = \"\"\"\n",
    "                         Meu nome é: \n",
    "                         \n",
    "                         \"\"\""
   ]
  },
  {
   "cell_type": "code",
   "execution_count": 33,
   "id": "e23defa1",
   "metadata": {},
   "outputs": [
    {
     "name": "stdout",
     "output_type": "stream",
     "text": [
      "\n",
      "        Python é uma linguagem de \n",
      "        programação\n",
      "        \n"
     ]
    }
   ],
   "source": [
    "texto = '''\n",
    "        Python é uma linguagem de \n",
    "        programação\n",
    "        '''\n",
    "print(texto)"
   ]
  },
  {
   "cell_type": "code",
   "execution_count": 34,
   "id": "f69158b3",
   "metadata": {},
   "outputs": [
    {
     "name": "stdout",
     "output_type": "stream",
     "text": [
      "Meu nome é: \n"
     ]
    }
   ],
   "source": [
    "print(minha_string_single_quote)"
   ]
  },
  {
   "cell_type": "code",
   "execution_count": 35,
   "id": "2d25e113",
   "metadata": {},
   "outputs": [
    {
     "name": "stdout",
     "output_type": "stream",
     "text": [
      "Meu nome é: \n"
     ]
    }
   ],
   "source": [
    "print(minha_string_double_quote)"
   ]
  },
  {
   "cell_type": "code",
   "execution_count": 36,
   "id": "ade0a151",
   "metadata": {},
   "outputs": [],
   "source": [
    "# fatiamento de strings\n",
    "# o Python começa a contar do 0 e o último número não é incluido no fatiamento"
   ]
  },
  {
   "cell_type": "code",
   "execution_count": 37,
   "id": "04541b13",
   "metadata": {},
   "outputs": [
    {
     "name": "stdout",
     "output_type": "stream",
     "text": [
      "São Bernardo do Campo\n",
      "S\n",
      "o B\n",
      "o Bernardo do Campo\n",
      "São Bernardo do CampoSão Bernardo do Campo\n"
     ]
    }
   ],
   "source": [
    "cidade = 'São Bernardo do Campo'\n",
    "\n",
    "print(cidade)              # imprime a string completa\n",
    "print(cidade[0])           # imprime o primeiro caracter da string\n",
    "print(cidade[2:5])         # imprime do terceiro ao quinto caracter\n",
    "print(cidade[2:])          # imprime os caracteres a partir do terceiro\n",
    "print(cidade * 2)          # imprime duas vezes"
   ]
  },
  {
   "cell_type": "code",
   "execution_count": 38,
   "id": "13ba0801",
   "metadata": {},
   "outputs": [
    {
     "name": "stdout",
     "output_type": "stream",
     "text": [
      "São Bernardo do Campo , localizada na Grande São Paulo\n"
     ]
    }
   ],
   "source": [
    "# concatenando strings\n",
    "cidade = 'São Bernardo do Campo'\n",
    "regiao = ', localizada na Grande São Paulo'\n",
    "\n",
    "print(cidade+' '+regiao)"
   ]
  },
  {
   "cell_type": "code",
   "execution_count": 39,
   "id": "cf82a243",
   "metadata": {},
   "outputs": [],
   "source": [
    "# podemos usar o operador * em strings"
   ]
  },
  {
   "cell_type": "code",
   "execution_count": 40,
   "id": "135c0352",
   "metadata": {},
   "outputs": [
    {
     "name": "stdout",
     "output_type": "stream",
     "text": [
      "PythonPythonPythonPythonPython\n"
     ]
    }
   ],
   "source": [
    "string = 'Python'\n",
    "print(string * 5)"
   ]
  },
  {
   "cell_type": "code",
   "execution_count": 41,
   "id": "38161c8e",
   "metadata": {},
   "outputs": [
    {
     "name": "stdout",
     "output_type": "stream",
     "text": [
      "PYTHON\n",
      "python\n",
      "Python\n",
      "Python\n",
      "3\n",
      "0\n"
     ]
    }
   ],
   "source": [
    "# métodos em strings\n",
    "print(string.upper())      # uppercase\n",
    "print(string.lower())      # lowercase\n",
    "print(string.capitalize()) # capitaliza a primeira palavra\n",
    "print(string.title())      # capitaliza cada palavra\n",
    "print(string.find(\"h\"))    # retorna o índice da palavra especificada\n",
    "print(string.count('0'))   # conta a frequência"
   ]
  },
  {
   "cell_type": "markdown",
   "id": "a39d3d34",
   "metadata": {},
   "source": [
    "## Prints"
   ]
  },
  {
   "cell_type": "code",
   "execution_count": 42,
   "id": "603664b4",
   "metadata": {},
   "outputs": [],
   "source": [
    "# variável nome\n",
    "nome = 'Thiago'\n",
    "# variável idade\n",
    "idade = 39"
   ]
  },
  {
   "cell_type": "code",
   "execution_count": 43,
   "id": "9098757e",
   "metadata": {},
   "outputs": [
    {
     "name": "stdout",
     "output_type": "stream",
     "text": [
      "Thiago\n"
     ]
    }
   ],
   "source": [
    "print(nome)"
   ]
  },
  {
   "cell_type": "code",
   "execution_count": 44,
   "id": "fb52213d",
   "metadata": {},
   "outputs": [
    {
     "name": "stdout",
     "output_type": "stream",
     "text": [
      "Olá, meu nome é Thiago e eu tenho 39 anos\n"
     ]
    }
   ],
   "source": [
    "print('Olá, meu nome é {} e eu tenho {} anos'. format(nome, idade))"
   ]
  },
  {
   "cell_type": "code",
   "execution_count": 45,
   "id": "d3cbf9eb",
   "metadata": {},
   "outputs": [
    {
     "name": "stdout",
     "output_type": "stream",
     "text": [
      "Olá, meu nome é Thiago e eu tenho 39 anos.\n"
     ]
    }
   ],
   "source": [
    "print(f'Olá, meu nome é {nome} e eu tenho {idade} anos.')"
   ]
  },
  {
   "cell_type": "markdown",
   "id": "1ad174a4",
   "metadata": {},
   "source": [
    "## Inputs"
   ]
  },
  {
   "cell_type": "code",
   "execution_count": 46,
   "id": "0270e5a8",
   "metadata": {},
   "outputs": [
    {
     "name": "stdout",
     "output_type": "stream",
     "text": [
      "Digite seu nome: Thiago\n"
     ]
    }
   ],
   "source": [
    "# exemplo inicial\n",
    "nome = input('Digite seu nome: ')"
   ]
  },
  {
   "cell_type": "code",
   "execution_count": 47,
   "id": "0ff0849b",
   "metadata": {},
   "outputs": [
    {
     "name": "stdout",
     "output_type": "stream",
     "text": [
      "Thiago\n"
     ]
    }
   ],
   "source": [
    "print(nome)"
   ]
  },
  {
   "cell_type": "code",
   "execution_count": 48,
   "id": "c506d4d1",
   "metadata": {},
   "outputs": [
    {
     "data": {
      "text/plain": [
       "str"
      ]
     },
     "execution_count": 48,
     "metadata": {},
     "output_type": "execute_result"
    }
   ],
   "source": [
    "type(nome)"
   ]
  },
  {
   "cell_type": "code",
   "execution_count": 49,
   "id": "57fc9f09",
   "metadata": {},
   "outputs": [
    {
     "name": "stdout",
     "output_type": "stream",
     "text": [
      "Digite um número: 39\n"
     ]
    }
   ],
   "source": [
    "# casting\n",
    "numero = int(input('Digite um número: '))"
   ]
  },
  {
   "cell_type": "code",
   "execution_count": 50,
   "id": "fa17f21b",
   "metadata": {},
   "outputs": [
    {
     "data": {
      "text/plain": [
       "int"
      ]
     },
     "execution_count": 50,
     "metadata": {},
     "output_type": "execute_result"
    }
   ],
   "source": [
    "type(numero)"
   ]
  },
  {
   "cell_type": "code",
   "execution_count": 51,
   "id": "04cd4ee8",
   "metadata": {},
   "outputs": [
    {
     "name": "stdout",
     "output_type": "stream",
     "text": [
      "digite sua idade: 39\n",
      "Sua idade é: 39\n"
     ]
    }
   ],
   "source": [
    "idade = int(input('digite sua idade: '))\n",
    "print(f'Sua idade é: {idade}')"
   ]
  },
  {
   "cell_type": "code",
   "execution_count": 52,
   "id": "6c1ca4a6",
   "metadata": {},
   "outputs": [
    {
     "data": {
      "text/plain": [
       "39"
      ]
     },
     "execution_count": 52,
     "metadata": {},
     "output_type": "execute_result"
    }
   ],
   "source": [
    "idade"
   ]
  },
  {
   "cell_type": "markdown",
   "id": "30594d16",
   "metadata": {},
   "source": [
    "## Comparadores e operadores lógicos"
   ]
  },
  {
   "cell_type": "markdown",
   "id": "f6e0d10d",
   "metadata": {},
   "source": [
    "**Operadores mais importantes:**\n",
    "\n",
    "* A == B  (vamos verificar se A é igual a B)\n",
    "* A > B (vamos verificar se A é maior que B)\n",
    "* A < B (vamos verificar se B é maior que A)\n",
    "* A >= B (vamos verificar se A é maior ou igual a B)\n",
    "* A <= B (vamos verificar se A é menor ou igual a B)\n",
    "* A != B (Vamos verificar se A é diferente de B)"
   ]
  },
  {
   "cell_type": "code",
   "execution_count": 53,
   "id": "8fa03185",
   "metadata": {},
   "outputs": [],
   "source": [
    "num1 = 2\n",
    "num2 = 4"
   ]
  },
  {
   "cell_type": "code",
   "execution_count": 54,
   "id": "da10e85d",
   "metadata": {},
   "outputs": [
    {
     "data": {
      "text/plain": [
       "False"
      ]
     },
     "execution_count": 54,
     "metadata": {},
     "output_type": "execute_result"
    }
   ],
   "source": [
    "num1 == num2"
   ]
  },
  {
   "cell_type": "code",
   "execution_count": 55,
   "id": "d4b23da8",
   "metadata": {},
   "outputs": [
    {
     "data": {
      "text/plain": [
       "False"
      ]
     },
     "execution_count": 55,
     "metadata": {},
     "output_type": "execute_result"
    }
   ],
   "source": [
    "num1 > num2"
   ]
  },
  {
   "cell_type": "code",
   "execution_count": 56,
   "id": "485fed29",
   "metadata": {},
   "outputs": [
    {
     "data": {
      "text/plain": [
       "True"
      ]
     },
     "execution_count": 56,
     "metadata": {},
     "output_type": "execute_result"
    }
   ],
   "source": [
    "num1 < num2"
   ]
  },
  {
   "cell_type": "code",
   "execution_count": 57,
   "id": "93e67b8e",
   "metadata": {},
   "outputs": [
    {
     "data": {
      "text/plain": [
       "True"
      ]
     },
     "execution_count": 57,
     "metadata": {},
     "output_type": "execute_result"
    }
   ],
   "source": [
    "num1 <= num2"
   ]
  },
  {
   "cell_type": "code",
   "execution_count": 58,
   "id": "55ec9955",
   "metadata": {},
   "outputs": [
    {
     "data": {
      "text/plain": [
       "False"
      ]
     },
     "execution_count": 58,
     "metadata": {},
     "output_type": "execute_result"
    }
   ],
   "source": [
    "num1 >= num2"
   ]
  },
  {
   "cell_type": "code",
   "execution_count": 59,
   "id": "9f66ea98",
   "metadata": {},
   "outputs": [
    {
     "data": {
      "text/plain": [
       "True"
      ]
     },
     "execution_count": 59,
     "metadata": {},
     "output_type": "execute_result"
    }
   ],
   "source": [
    "num1 <= num2"
   ]
  },
  {
   "cell_type": "code",
   "execution_count": 60,
   "id": "fafb2b4b",
   "metadata": {},
   "outputs": [
    {
     "data": {
      "text/plain": [
       "True"
      ]
     },
     "execution_count": 60,
     "metadata": {},
     "output_type": "execute_result"
    }
   ],
   "source": [
    "num1 != num2"
   ]
  },
  {
   "cell_type": "code",
   "execution_count": 61,
   "id": "5ec34052",
   "metadata": {},
   "outputs": [],
   "source": [
    "# combinando comparações por meio de operadores lógicos"
   ]
  },
  {
   "cell_type": "code",
   "execution_count": 62,
   "id": "d3fbdc63",
   "metadata": {},
   "outputs": [],
   "source": [
    "idade1 = 20\n",
    "idade2 = 15\n",
    "idade3 = 10"
   ]
  },
  {
   "cell_type": "code",
   "execution_count": 63,
   "id": "09914f06",
   "metadata": {},
   "outputs": [
    {
     "data": {
      "text/plain": [
       "False"
      ]
     },
     "execution_count": 63,
     "metadata": {},
     "output_type": "execute_result"
    }
   ],
   "source": [
    "# AND = todas as comparações são verdadeiras\n",
    "# neste exemplo não são e retornou false\n",
    "(idade1>idade2) and (idade1<idade3)"
   ]
  },
  {
   "cell_type": "code",
   "execution_count": 64,
   "id": "f728fe1e",
   "metadata": {},
   "outputs": [
    {
     "data": {
      "text/plain": [
       "True"
      ]
     },
     "execution_count": 64,
     "metadata": {},
     "output_type": "execute_result"
    }
   ],
   "source": [
    "# OR = somente uma condição é verdadeira\n",
    "# neste exemplo retornou true\n",
    "(idade1>idade2) or (idade1<idade3)"
   ]
  },
  {
   "cell_type": "markdown",
   "id": "547a372a",
   "metadata": {},
   "source": [
    "## Condicionais"
   ]
  },
  {
   "cell_type": "code",
   "execution_count": 65,
   "id": "0daed3cc",
   "metadata": {},
   "outputs": [
    {
     "name": "stdout",
     "output_type": "stream",
     "text": [
      "Reprovado!\n"
     ]
    }
   ],
   "source": [
    "media_aluno = 4.5\n",
    "# Se a média for maior ou igual a 7, então ele é aprovado\n",
    "if media_aluno >= 7:\n",
    "    print('aprovado')\n",
    "# caso seja menor que 7, ele está reprovado\n",
    "else:\n",
    "    print('Reprovado!')"
   ]
  },
  {
   "cell_type": "code",
   "execution_count": 66,
   "id": "6321454f",
   "metadata": {},
   "outputs": [
    {
     "name": "stdout",
     "output_type": "stream",
     "text": [
      "Reprovado!\n"
     ]
    }
   ],
   "source": [
    "# mais de uma condição\n",
    "# se a média maior ou igual a 7, então ele é aprovado(>=7)\n",
    "\n",
    "if media_aluno >= 7:\n",
    "    print('aprovado!')\n",
    "# Se a média é maior ou igual a 5, recuperação (>=5)\n",
    "elif media_aluno >= 5:\n",
    "    print('Recuperação')\n",
    "# se for menor que 5, reprovado\n",
    "else:\n",
    "    print('Reprovado!')"
   ]
  },
  {
   "cell_type": "markdown",
   "id": "b0624739",
   "metadata": {},
   "source": [
    "## Loops"
   ]
  },
  {
   "cell_type": "markdown",
   "id": "101a05a9",
   "metadata": {},
   "source": [
    "### Loop For"
   ]
  },
  {
   "cell_type": "code",
   "execution_count": 67,
   "id": "338bc191",
   "metadata": {},
   "outputs": [
    {
     "name": "stdout",
     "output_type": "stream",
     "text": [
      "0\n",
      "1\n",
      "2\n",
      "3\n",
      "4\n",
      "5\n",
      "6\n",
      "7\n",
      "8\n",
      "9\n"
     ]
    }
   ],
   "source": [
    "# Pra gerar uma sequência podemos utilizar a função range\n",
    "# Sequência de 5 números iniciando o 0\n",
    "# Possibilidade 1: range(5)\n",
    "# Possibilidade 2: criar uma lista e armazenar os números\n",
    "\n",
    "for numero in range(10):\n",
    "    print(numero)"
   ]
  },
  {
   "cell_type": "code",
   "execution_count": 68,
   "id": "aaec007b",
   "metadata": {},
   "outputs": [],
   "source": [
    "lista = list(range(20))"
   ]
  },
  {
   "cell_type": "code",
   "execution_count": 69,
   "id": "b92a5178",
   "metadata": {},
   "outputs": [
    {
     "name": "stdout",
     "output_type": "stream",
     "text": [
      "0\n",
      "1\n",
      "4\n",
      "9\n",
      "16\n"
     ]
    }
   ],
   "source": [
    "lista = [0, 1, 2, 3, 4]\n",
    "for numero in lista:\n",
    "    print(numero ** 2)"
   ]
  },
  {
   "cell_type": "code",
   "execution_count": 70,
   "id": "224fb80a",
   "metadata": {},
   "outputs": [
    {
     "name": "stdout",
     "output_type": "stream",
     "text": [
      "P\n",
      "y\n",
      "t\n",
      "h\n",
      "o\n",
      "n\n"
     ]
    }
   ],
   "source": [
    "string = 'Python'\n",
    "for i in string:\n",
    "    print(i)"
   ]
  },
  {
   "cell_type": "code",
   "execution_count": 71,
   "id": "903254cd",
   "metadata": {},
   "outputs": [
    {
     "name": "stdout",
     "output_type": "stream",
     "text": [
      "0 São Paulo\n",
      "1 Rio de Janeiro\n",
      "2 Fortaleza\n",
      "3 Manaus\n"
     ]
    }
   ],
   "source": [
    "# vamos usar a função enumerate para imprimir a cada repetição o índice do elemento\n",
    "# a ideia é printar o índice e o elemento\n",
    "\n",
    "cidades = ['São Paulo', 'Rio de Janeiro', 'Fortaleza', 'Manaus']\n",
    "for indice, cidades in enumerate(cidades, start = 0):\n",
    "    print(indice, cidades)"
   ]
  },
  {
   "cell_type": "code",
   "execution_count": 72,
   "id": "e5828981",
   "metadata": {},
   "outputs": [
    {
     "name": "stdout",
     "output_type": "stream",
     "text": [
      "1\n",
      "Informe a nota do aluno: 5\n",
      "Aluno Reprovado!\n",
      "\n",
      "2\n",
      "Informe a nota do aluno: 6\n",
      "Aluno Reprovado!\n",
      "\n",
      "3\n",
      "Informe a nota do aluno: 8\n",
      "Aluno Aprovado!\n",
      "\n",
      "4\n",
      "Informe a nota do aluno: 4\n",
      "Aluno Reprovado!\n",
      "\n",
      "5\n",
      "Informe a nota do aluno: 9\n",
      "Aluno Aprovado!\n",
      "\n"
     ]
    }
   ],
   "source": [
    "# Avaliando a aprovação de 5 alunos\n",
    "# Se média maior ou igual a 7, então ele é aprovado\n",
    "\n",
    "for i in range(1, 6):\n",
    "    print(i)\n",
    "    media_aluno = float(input('Informe a nota do aluno: '))\n",
    "    if media_aluno >= 7:\n",
    "        print('Aluno Aprovado!\\n')\n",
    "    # se for menor que 7, reprovado\n",
    "    else:\n",
    "        print('Aluno Reprovado!\\n')"
   ]
  },
  {
   "cell_type": "markdown",
   "id": "b08d7111",
   "metadata": {},
   "source": [
    "### Loop While"
   ]
  },
  {
   "cell_type": "code",
   "execution_count": 73,
   "id": "f695e7a4",
   "metadata": {},
   "outputs": [],
   "source": [
    "# Exemplo de loop infinito\n",
    "# não execute essa linha\n",
    "# i = 10\n",
    "# while i < 11:\n",
    "#    print('eu sou teimoso!')"
   ]
  },
  {
   "cell_type": "code",
   "execution_count": 74,
   "id": "88be545b",
   "metadata": {},
   "outputs": [
    {
     "name": "stdout",
     "output_type": "stream",
     "text": [
      "0\n",
      "1\n",
      "2\n",
      "3\n",
      "4\n",
      "5\n",
      "6\n",
      "7\n"
     ]
    }
   ],
   "source": [
    "# loop com condição \n",
    "# a cada iteração é somado +1 ao valor de i\n",
    "\n",
    "i = 0\n",
    "while i <= 7:\n",
    "    print(i)\n",
    "    \n",
    "    i+=1    # i = i + 1"
   ]
  },
  {
   "cell_type": "code",
   "execution_count": 75,
   "id": "480e8ec3",
   "metadata": {},
   "outputs": [
    {
     "name": "stdout",
     "output_type": "stream",
     "text": [
      "10\n",
      "9\n",
      "8\n",
      "7\n",
      "6\n",
      "5\n",
      "4\n",
      "3\n",
      "2\n",
      "1\n"
     ]
    }
   ],
   "source": [
    "# loop com condição \n",
    "# a cada iteração é subtraído 1 ao valor de i\n",
    "\n",
    "i = 10\n",
    "while i >= 1:\n",
    "    print(i)\n",
    "    \n",
    "    i-=1    # i = i - 1"
   ]
  },
  {
   "cell_type": "code",
   "execution_count": 76,
   "id": "17e8da55",
   "metadata": {},
   "outputs": [
    {
     "name": "stdout",
     "output_type": "stream",
     "text": [
      "1\n",
      "8\n",
      "3\n",
      "5\n"
     ]
    }
   ],
   "source": [
    "# interação com lista\n",
    "lista = [1, 8, 3, 5]\n",
    "\n",
    "i = 0\n",
    "while i < len(lista):\n",
    "    print(lista[i])\n",
    "    i+=1"
   ]
  },
  {
   "cell_type": "markdown",
   "id": "42a499e5",
   "metadata": {},
   "source": [
    "## Estrutura de Dados"
   ]
  },
  {
   "cell_type": "markdown",
   "id": "a16e0391",
   "metadata": {},
   "source": [
    "## Listas"
   ]
  },
  {
   "cell_type": "code",
   "execution_count": 77,
   "id": "3090bf87",
   "metadata": {},
   "outputs": [],
   "source": [
    "# listas com números\n",
    "lista_numeros = [1,2,3]"
   ]
  },
  {
   "cell_type": "code",
   "execution_count": 78,
   "id": "42752357",
   "metadata": {},
   "outputs": [],
   "source": [
    "lista_string = ['São Paulo', 'Maceió', 'Belém', 'Salvador']"
   ]
  },
  {
   "cell_type": "code",
   "execution_count": 79,
   "id": "c2973258",
   "metadata": {},
   "outputs": [
    {
     "data": {
      "text/plain": [
       "1"
      ]
     },
     "execution_count": 79,
     "metadata": {},
     "output_type": "execute_result"
    }
   ],
   "source": [
    "# Acessando o elemento 0 da lista de números\n",
    "lista_numeros[0]"
   ]
  },
  {
   "cell_type": "code",
   "execution_count": 80,
   "id": "6d5ab323",
   "metadata": {},
   "outputs": [
    {
     "data": {
      "text/plain": [
       "2"
      ]
     },
     "execution_count": 80,
     "metadata": {},
     "output_type": "execute_result"
    }
   ],
   "source": [
    "# Acessando o elemento 1 da lista de números\n",
    "lista_numeros[1]"
   ]
  },
  {
   "cell_type": "code",
   "execution_count": 81,
   "id": "6ffffdc8",
   "metadata": {},
   "outputs": [
    {
     "data": {
      "text/plain": [
       "True"
      ]
     },
     "execution_count": 81,
     "metadata": {},
     "output_type": "execute_result"
    }
   ],
   "source": [
    "# verificando se um elemento faz parte da lista\n",
    "2 in lista_numeros"
   ]
  },
  {
   "cell_type": "code",
   "execution_count": 82,
   "id": "1f88105d",
   "metadata": {},
   "outputs": [
    {
     "data": {
      "text/plain": [
       "['Python', 'Java', 'Php', 'JavaScript']"
      ]
     },
     "execution_count": 82,
     "metadata": {},
     "output_type": "execute_result"
    }
   ],
   "source": [
    "# slicing de lista\n",
    "# usaremos esse raciocíno diversas vezes quando operarmos dados com Pandas\n",
    "# sintaxe : lista[start:end:step]\n",
    "\n",
    "linguagens = ['Python', 'Java', 'Php', 'JavaScript']\n",
    "# mostra toda lista\n",
    "linguagens[:]"
   ]
  },
  {
   "cell_type": "code",
   "execution_count": 83,
   "id": "a968b03b",
   "metadata": {},
   "outputs": [
    {
     "data": {
      "text/plain": [
       "['JavaScript', 'Php', 'Java', 'Python']"
      ]
     },
     "execution_count": 83,
     "metadata": {},
     "output_type": "execute_result"
    }
   ],
   "source": [
    "# inverte a ordem dos elementos\n",
    "linguagens[::-1]"
   ]
  },
  {
   "cell_type": "code",
   "execution_count": 84,
   "id": "52d8d515",
   "metadata": {},
   "outputs": [
    {
     "data": {
      "text/plain": [
       "['Python']"
      ]
     },
     "execution_count": 84,
     "metadata": {},
     "output_type": "execute_result"
    }
   ],
   "source": [
    "# mostra todos os elementos da posição 0 até a posição 1 (excluisive)\n",
    "linguagens[:1]"
   ]
  },
  {
   "cell_type": "code",
   "execution_count": 85,
   "id": "a5c7872f",
   "metadata": {},
   "outputs": [
    {
     "data": {
      "text/plain": [
       "['Java', 'Php']"
      ]
     },
     "execution_count": 85,
     "metadata": {},
     "output_type": "execute_result"
    }
   ],
   "source": [
    "# mostra todos os elementos da posição 1 até a posição 3 (excluisive)\n",
    "linguagens[1:3]"
   ]
  },
  {
   "cell_type": "code",
   "execution_count": 86,
   "id": "d63af9db",
   "metadata": {},
   "outputs": [
    {
     "data": {
      "text/plain": [
       "['Php', 'JavaScript']"
      ]
     },
     "execution_count": 86,
     "metadata": {},
     "output_type": "execute_result"
    }
   ],
   "source": [
    "#pega todos os elementos da posição 2 até o final da lista\n",
    "linguagens[2:]"
   ]
  },
  {
   "cell_type": "code",
   "execution_count": 87,
   "id": "ab7f1fe6",
   "metadata": {},
   "outputs": [
    {
     "data": {
      "text/plain": [
       "['Python', 'Php']"
      ]
     },
     "execution_count": 87,
     "metadata": {},
     "output_type": "execute_result"
    }
   ],
   "source": [
    "#pega todos os elementos com step = 2\n",
    "linguagens[::2]"
   ]
  },
  {
   "cell_type": "code",
   "execution_count": 88,
   "id": "09ac5540",
   "metadata": {},
   "outputs": [],
   "source": [
    "# em lista com números podemos fazer operações\n",
    "\n",
    "numeros = [1,5,8]"
   ]
  },
  {
   "cell_type": "code",
   "execution_count": 89,
   "id": "1229aa18",
   "metadata": {},
   "outputs": [
    {
     "data": {
      "text/plain": [
       "14"
      ]
     },
     "execution_count": 89,
     "metadata": {},
     "output_type": "execute_result"
    }
   ],
   "source": [
    "# Soma\n",
    "sum(numeros)"
   ]
  },
  {
   "cell_type": "code",
   "execution_count": 90,
   "id": "1ee466e8",
   "metadata": {},
   "outputs": [
    {
     "data": {
      "text/plain": [
       "8"
      ]
     },
     "execution_count": 90,
     "metadata": {},
     "output_type": "execute_result"
    }
   ],
   "source": [
    "# Máximo da lista\n",
    "max(numeros)"
   ]
  },
  {
   "cell_type": "code",
   "execution_count": 91,
   "id": "8c09ffaf",
   "metadata": {},
   "outputs": [
    {
     "data": {
      "text/plain": [
       "3"
      ]
     },
     "execution_count": 91,
     "metadata": {},
     "output_type": "execute_result"
    }
   ],
   "source": [
    "# quantidade de elementos na lista\n",
    "len(numeros)"
   ]
  },
  {
   "cell_type": "code",
   "execution_count": 92,
   "id": "8f6cbc7b",
   "metadata": {},
   "outputs": [
    {
     "name": "stdout",
     "output_type": "stream",
     "text": [
      "1 5 8\n"
     ]
    }
   ],
   "source": [
    "# desempacotando lista\n",
    "num1, num2, num3 = numeros\n",
    "print(num1, num2, num3)"
   ]
  },
  {
   "cell_type": "code",
   "execution_count": 93,
   "id": "8a6099d1",
   "metadata": {},
   "outputs": [
    {
     "name": "stdout",
     "output_type": "stream",
     "text": [
      "[1, 5, 8]\n"
     ]
    }
   ],
   "source": [
    "print(numeros)"
   ]
  },
  {
   "cell_type": "code",
   "execution_count": 94,
   "id": "9505099f",
   "metadata": {},
   "outputs": [],
   "source": [
    "# desempacotando lista\n",
    "num1, *num2 = numeros"
   ]
  },
  {
   "cell_type": "code",
   "execution_count": 95,
   "id": "78788935",
   "metadata": {},
   "outputs": [
    {
     "name": "stdout",
     "output_type": "stream",
     "text": [
      "1 [5, 8]\n"
     ]
    }
   ],
   "source": [
    "print(num1, num2)"
   ]
  },
  {
   "cell_type": "code",
   "execution_count": 96,
   "id": "633f79b0",
   "metadata": {},
   "outputs": [
    {
     "data": {
      "text/plain": [
       "['__add__',\n",
       " '__class__',\n",
       " '__class_getitem__',\n",
       " '__contains__',\n",
       " '__delattr__',\n",
       " '__delitem__',\n",
       " '__dir__',\n",
       " '__doc__',\n",
       " '__eq__',\n",
       " '__format__',\n",
       " '__ge__',\n",
       " '__getattribute__',\n",
       " '__getitem__',\n",
       " '__gt__',\n",
       " '__hash__',\n",
       " '__iadd__',\n",
       " '__imul__',\n",
       " '__init__',\n",
       " '__init_subclass__',\n",
       " '__iter__',\n",
       " '__le__',\n",
       " '__len__',\n",
       " '__lt__',\n",
       " '__mul__',\n",
       " '__ne__',\n",
       " '__new__',\n",
       " '__reduce__',\n",
       " '__reduce_ex__',\n",
       " '__repr__',\n",
       " '__reversed__',\n",
       " '__rmul__',\n",
       " '__setattr__',\n",
       " '__setitem__',\n",
       " '__sizeof__',\n",
       " '__str__',\n",
       " '__subclasshook__',\n",
       " 'append',\n",
       " 'clear',\n",
       " 'copy',\n",
       " 'count',\n",
       " 'extend',\n",
       " 'index',\n",
       " 'insert',\n",
       " 'pop',\n",
       " 'remove',\n",
       " 'reverse',\n",
       " 'sort']"
      ]
     },
     "execution_count": 96,
     "metadata": {},
     "output_type": "execute_result"
    }
   ],
   "source": [
    "# métodos me listas\n",
    "\n",
    "# verifica os métodos de um objeto\n",
    "dir(list)"
   ]
  },
  {
   "cell_type": "code",
   "execution_count": 97,
   "id": "3f54b5a2",
   "metadata": {},
   "outputs": [
    {
     "name": "stdout",
     "output_type": "stream",
     "text": [
      "Help on method_descriptor:\n",
      "\n",
      "append(self, object, /)\n",
      "    Append object to the end of the list.\n",
      "\n"
     ]
    }
   ],
   "source": [
    "# ajuda \n",
    "help(list.append)"
   ]
  },
  {
   "cell_type": "markdown",
   "id": "ca4f142d",
   "metadata": {},
   "source": [
    "Method | Description\n",
    "-------|------------\n",
    "append() | Adds an element at the end of the list\n",
    "clear() | Removes all the elements from the list\n",
    "copy() | Returns a copy of the list\n",
    "count() | Returns the number of elements with the specified value\n",
    "extend() | Add the elements of a list (or any iterable), to the end of the current list\n",
    "index() | Returns the index of the first element with the specified value\n",
    "insert() | Adds an element at the specified position\n",
    "pop() | Removes the element at the specified position\n",
    "remove() | Removes the first item with the specified value\n",
    "reverse() | Removes the first item with the specified value\n",
    "sort() | Sorts the list\n",
    "\n",
    "\n",
    "Fonte: https://www.w3schools.com/python/python_ref_list.asp"
   ]
  },
  {
   "cell_type": "code",
   "execution_count": 98,
   "id": "d7b05108",
   "metadata": {},
   "outputs": [
    {
     "name": "stdout",
     "output_type": "stream",
     "text": [
      "[34, 5, 8]\n"
     ]
    }
   ],
   "source": [
    "# alterando um elemento\n",
    "numeros[0] = 34\n",
    "print(numeros)\n"
   ]
  },
  {
   "cell_type": "code",
   "execution_count": 99,
   "id": "3d63b64d",
   "metadata": {},
   "outputs": [
    {
     "name": "stdout",
     "output_type": "stream",
     "text": [
      "[34, 5, 8, 9]\n"
     ]
    }
   ],
   "source": [
    "# adicionando um novo elementos no final da lista\n",
    "numeros.append(9)\n",
    "print(numeros)"
   ]
  },
  {
   "cell_type": "code",
   "execution_count": 100,
   "id": "75eb4fb1",
   "metadata": {},
   "outputs": [
    {
     "name": "stdout",
     "output_type": "stream",
     "text": [
      "[34, 8, 9]\n"
     ]
    }
   ],
   "source": [
    "# removendo um elementos da lista\n",
    "numeros.remove(5)\n",
    "print(numeros)"
   ]
  },
  {
   "cell_type": "markdown",
   "id": "a36c7ee6",
   "metadata": {},
   "source": [
    "Para mais comandos envolvendo listas e acesse: <a href=\"https://www.w3schools.com/python/python_ref_list.asp\">Clique Aqui <a/>"
   ]
  },
  {
   "cell_type": "code",
   "execution_count": 101,
   "id": "d84f7e75",
   "metadata": {},
   "outputs": [],
   "source": [
    "# Exemplo \n",
    "# Vamos criar uma lista vazia e em seguida usar a função range() para gerar uma sequência de números inteiros\n",
    "# range(1,101)\n",
    "# Em seguida iremos adicionar a esta lista apenas os números pares\n",
    "# Podemos reduzir o tamanho deste código?\n",
    "# E se caso eu precise usar esse mesmo procedimento várias vezes?"
   ]
  },
  {
   "cell_type": "code",
   "execution_count": 102,
   "id": "72be015b",
   "metadata": {},
   "outputs": [],
   "source": [
    "lista = []\n",
    "for numero in range(1, 101):\n",
    "    if numero%2==0:\n",
    "        lista.append(numero)"
   ]
  },
  {
   "cell_type": "code",
   "execution_count": 103,
   "id": "16aae9f9",
   "metadata": {},
   "outputs": [
    {
     "name": "stdout",
     "output_type": "stream",
     "text": [
      "[2, 4, 6, 8, 10, 12, 14, 16, 18, 20, 22, 24, 26, 28, 30, 32, 34, 36, 38, 40, 42, 44, 46, 48, 50, 52, 54, 56, 58, 60, 62, 64, 66, 68, 70, 72, 74, 76, 78, 80, 82, 84, 86, 88, 90, 92, 94, 96, 98, 100]\n"
     ]
    }
   ],
   "source": [
    "print(lista)"
   ]
  },
  {
   "cell_type": "markdown",
   "id": "c2b53310",
   "metadata": {},
   "source": [
    "## Tuplas"
   ]
  },
  {
   "cell_type": "code",
   "execution_count": 104,
   "id": "ec2836ad",
   "metadata": {},
   "outputs": [],
   "source": [
    "# tuplas são imutáveis\n",
    "tupla = (1, 2, 2, 2, 3, 3, 4)"
   ]
  },
  {
   "cell_type": "code",
   "execution_count": 105,
   "id": "cabd4db6",
   "metadata": {},
   "outputs": [
    {
     "data": {
      "text/plain": [
       "3"
      ]
     },
     "execution_count": 105,
     "metadata": {},
     "output_type": "execute_result"
    }
   ],
   "source": [
    "# quantas vezes aparece um elemento\n",
    "tupla.count(2)"
   ]
  },
  {
   "cell_type": "code",
   "execution_count": 106,
   "id": "34db9fd9",
   "metadata": {},
   "outputs": [
    {
     "data": {
      "text/plain": [
       "6"
      ]
     },
     "execution_count": 106,
     "metadata": {},
     "output_type": "execute_result"
    }
   ],
   "source": [
    "tupla.index(4)"
   ]
  },
  {
   "cell_type": "markdown",
   "id": "96df8c3c",
   "metadata": {},
   "source": [
    "Method | Description\n",
    "-------|-------------\n",
    "count() | Returns the number of times a specified value occurs in a tuple\n",
    "index() | \tSearches the tuple for a specified value and returns the position of where it was found\n",
    "\n",
    "Fonte: https://www.w3schools.com/python/python_ref_tuple.asp"
   ]
  },
  {
   "cell_type": "markdown",
   "id": "e2dfee7a",
   "metadata": {},
   "source": [
    "## Conjuntos"
   ]
  },
  {
   "cell_type": "code",
   "execution_count": 107,
   "id": "e56fcf13",
   "metadata": {},
   "outputs": [],
   "source": [
    "conjunto1 = {'Cristina', 'Flavia', 'Alessandra' }\n",
    "conjunto2 = {'Ana', 'Cleide', 'Alessandra'}"
   ]
  },
  {
   "cell_type": "code",
   "execution_count": 108,
   "id": "e28294a2",
   "metadata": {},
   "outputs": [],
   "source": [
    "# podemos adicionar um elemento a um conjunto\n",
    "conjunto2.add('Gabriela')"
   ]
  },
  {
   "cell_type": "code",
   "execution_count": 109,
   "id": "204c7448",
   "metadata": {},
   "outputs": [
    {
     "name": "stdout",
     "output_type": "stream",
     "text": [
      "{'Ana', 'Alessandra', 'Cleide', 'Flavia', 'Cristina', 'Gabriela'}\n"
     ]
    }
   ],
   "source": [
    "# podemos unir os dois cojuntos\n",
    "conjunto_uniao = conjunto1.union(conjunto2)\n",
    "print(conjunto_uniao)"
   ]
  },
  {
   "cell_type": "code",
   "execution_count": 110,
   "id": "62065658",
   "metadata": {},
   "outputs": [
    {
     "name": "stdout",
     "output_type": "stream",
     "text": [
      "{'Flavia', 'Cristina'}\n"
     ]
    }
   ],
   "source": [
    "# podemos subtrair conjuntos\n",
    "conjunto_subtracao = conjunto1.difference(conjunto2)\n",
    "print(conjunto_subtracao)"
   ]
  },
  {
   "cell_type": "code",
   "execution_count": 111,
   "id": "b59da42e",
   "metadata": {},
   "outputs": [
    {
     "name": "stdout",
     "output_type": "stream",
     "text": [
      "{'Alessandra'}\n"
     ]
    }
   ],
   "source": [
    "# podemos encontrar a interseccão dos conjuntos\n",
    "conjunto_interseccao = conjunto1.intersection(conjunto2)\n",
    "print(conjunto_interseccao)"
   ]
  },
  {
   "cell_type": "code",
   "execution_count": 112,
   "id": "3ef7ec61",
   "metadata": {},
   "outputs": [
    {
     "name": "stdout",
     "output_type": "stream",
     "text": [
      "['a', 'b', 'w', 'z']\n"
     ]
    }
   ],
   "source": [
    "# podemos usar sets para pegar apenas os elementos únicos de uma lista\n",
    "lista = ['a', 'b', 'a', 'b', 'w', 'z', 'b']\n",
    "print(list(set(lista)))"
   ]
  },
  {
   "cell_type": "markdown",
   "id": "16eb42ae",
   "metadata": {},
   "source": [
    "Para mais comandos envolvendo conjuntos e acesse: <a href=\"https://www.w3schools.com/python/python_ref_set.asp\">Clique Aqui <a/>"
   ]
  },
  {
   "cell_type": "markdown",
   "id": "03ae5b75",
   "metadata": {},
   "source": [
    "## Dicionários"
   ]
  },
  {
   "cell_type": "code",
   "execution_count": 113,
   "id": "b5c299c0",
   "metadata": {},
   "outputs": [],
   "source": [
    "# Exemplo\n",
    "notas = {\"Bruno\": 4.5, \n",
    "         \"Mauricio\": 8.7, \n",
    "         \"Jéssica\": 6.5,\n",
    "         \"Mariana\": 7.4\n",
    "        }\n",
    "\n"
   ]
  },
  {
   "cell_type": "code",
   "execution_count": 114,
   "id": "b8e7810a",
   "metadata": {},
   "outputs": [
    {
     "name": "stdout",
     "output_type": "stream",
     "text": [
      "4.5\n"
     ]
    }
   ],
   "source": [
    "# consultar o dicionário\n",
    "print(notas['Bruno'])"
   ]
  },
  {
   "cell_type": "code",
   "execution_count": 115,
   "id": "2e6b316d",
   "metadata": {},
   "outputs": [
    {
     "name": "stdout",
     "output_type": "stream",
     "text": [
      "8.7\n"
     ]
    }
   ],
   "source": [
    "print(notas['Mauricio'])"
   ]
  },
  {
   "cell_type": "code",
   "execution_count": 116,
   "id": "f3a7304c",
   "metadata": {},
   "outputs": [
    {
     "data": {
      "text/plain": [
       "dict_keys(['Bruno', 'Mauricio', 'Jéssica', 'Mariana'])"
      ]
     },
     "execution_count": 116,
     "metadata": {},
     "output_type": "execute_result"
    }
   ],
   "source": [
    "# podemos consultar as chaves\n",
    "notas.keys()"
   ]
  },
  {
   "cell_type": "code",
   "execution_count": 117,
   "id": "bb074f25",
   "metadata": {},
   "outputs": [
    {
     "data": {
      "text/plain": [
       "dict_values([4.5, 8.7, 6.5, 7.4])"
      ]
     },
     "execution_count": 117,
     "metadata": {},
     "output_type": "execute_result"
    }
   ],
   "source": [
    "# podemos consultar as valores\n",
    "notas.values()"
   ]
  },
  {
   "cell_type": "code",
   "execution_count": 118,
   "id": "ddb87ebe",
   "metadata": {},
   "outputs": [
    {
     "name": "stdout",
     "output_type": "stream",
     "text": [
      "Bruno 4.5\n",
      "Mauricio 8.7\n",
      "Jéssica 6.5\n",
      "Mariana 7.4\n"
     ]
    }
   ],
   "source": [
    "# iterar no dicionario\n",
    "for chave, valor in notas.items():\n",
    "    print(chave, valor)"
   ]
  },
  {
   "cell_type": "code",
   "execution_count": null,
   "id": "a9f7ca60",
   "metadata": {},
   "outputs": [],
   "source": []
  }
 ],
 "metadata": {
  "kernelspec": {
   "display_name": "Python 3 (ipykernel)",
   "language": "python",
   "name": "python3"
  },
  "language_info": {
   "codemirror_mode": {
    "name": "ipython",
    "version": 3
   },
   "file_extension": ".py",
   "mimetype": "text/x-python",
   "name": "python",
   "nbconvert_exporter": "python",
   "pygments_lexer": "ipython3",
   "version": "3.9.12"
  }
 },
 "nbformat": 4,
 "nbformat_minor": 5
}
