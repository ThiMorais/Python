{
 "cells": [
  {
   "cell_type": "markdown",
   "id": "106bc563",
   "metadata": {},
   "source": [
    "# Numpy - parte II"
   ]
  },
  {
   "cell_type": "markdown",
   "id": "9521e972",
   "metadata": {},
   "source": [
    "## Funções básicas"
   ]
  },
  {
   "cell_type": "code",
   "execution_count": 1,
   "id": "81f0a240",
   "metadata": {},
   "outputs": [],
   "source": [
    "import numpy as np"
   ]
  },
  {
   "cell_type": "code",
   "execution_count": 2,
   "id": "7f82293b",
   "metadata": {},
   "outputs": [
    {
     "data": {
      "text/plain": [
       "2.5"
      ]
     },
     "execution_count": 2,
     "metadata": {},
     "output_type": "execute_result"
    }
   ],
   "source": [
    "# média\n",
    "numeros = [1, 2, 3, 4]\n",
    "np.mean(numeros)"
   ]
  },
  {
   "cell_type": "code",
   "execution_count": 3,
   "id": "eae6516a",
   "metadata": {},
   "outputs": [
    {
     "data": {
      "text/plain": [
       "2.5"
      ]
     },
     "execution_count": 3,
     "metadata": {},
     "output_type": "execute_result"
    }
   ],
   "source": [
    "# média a partir de uma lista\n",
    "np.mean([1, 2, 3, 4])"
   ]
  },
  {
   "cell_type": "code",
   "execution_count": 4,
   "id": "1919b853",
   "metadata": {},
   "outputs": [
    {
     "data": {
      "text/plain": [
       "2.5"
      ]
     },
     "execution_count": 4,
     "metadata": {},
     "output_type": "execute_result"
    }
   ],
   "source": [
    "# média a partir de uma tupla\n",
    "np.mean((1, 2, 3, 4))"
   ]
  },
  {
   "cell_type": "code",
   "execution_count": 5,
   "id": "7bc6bdff",
   "metadata": {},
   "outputs": [
    {
     "data": {
      "text/plain": [
       "19.0"
      ]
     },
     "execution_count": 5,
     "metadata": {},
     "output_type": "execute_result"
    }
   ],
   "source": [
    "# média a partir de uma ndarray\n",
    "np.mean(np.array([1, 2, 3, 70]))"
   ]
  },
  {
   "cell_type": "code",
   "execution_count": 6,
   "id": "0fc5b6ff",
   "metadata": {},
   "outputs": [
    {
     "data": {
      "text/plain": [
       "1.25"
      ]
     },
     "execution_count": 6,
     "metadata": {},
     "output_type": "execute_result"
    }
   ],
   "source": [
    "# variância\n",
    "np.var([1, 2, 3, 4])"
   ]
  },
  {
   "cell_type": "code",
   "execution_count": 7,
   "id": "a685ffee",
   "metadata": {},
   "outputs": [
    {
     "data": {
      "text/plain": [
       "867.5"
      ]
     },
     "execution_count": 7,
     "metadata": {},
     "output_type": "execute_result"
    }
   ],
   "source": [
    "# variância\n",
    "np.var([1, 2, 3, 70])"
   ]
  },
  {
   "cell_type": "code",
   "execution_count": 8,
   "id": "1e64230c",
   "metadata": {},
   "outputs": [
    {
     "data": {
      "text/plain": [
       "1.118033988749895"
      ]
     },
     "execution_count": 8,
     "metadata": {},
     "output_type": "execute_result"
    }
   ],
   "source": [
    "# desvio Padrão\n",
    "np.std([1, 2, 3, 4])"
   ]
  },
  {
   "cell_type": "code",
   "execution_count": 9,
   "id": "2d43e9c0",
   "metadata": {},
   "outputs": [
    {
     "data": {
      "text/plain": [
       "29.45335295004628"
      ]
     },
     "execution_count": 9,
     "metadata": {},
     "output_type": "execute_result"
    }
   ],
   "source": [
    "# desvio Padrão\n",
    "np.std([1, 2, 3, 70])"
   ]
  },
  {
   "cell_type": "code",
   "execution_count": 10,
   "id": "7870eab7",
   "metadata": {},
   "outputs": [
    {
     "data": {
      "text/plain": [
       "4.0"
      ]
     },
     "execution_count": 10,
     "metadata": {},
     "output_type": "execute_result"
    }
   ],
   "source": [
    "# mediana\n",
    "np.median([1, 5, 4 , 10, 3])"
   ]
  },
  {
   "cell_type": "code",
   "execution_count": 11,
   "id": "d68d28d7",
   "metadata": {},
   "outputs": [
    {
     "data": {
      "text/plain": [
       "2.5"
      ]
     },
     "execution_count": 11,
     "metadata": {},
     "output_type": "execute_result"
    }
   ],
   "source": [
    "# mediana\n",
    "np.median([1, 2, 3, 70])"
   ]
  },
  {
   "cell_type": "code",
   "execution_count": 12,
   "id": "7069d09f",
   "metadata": {},
   "outputs": [
    {
     "name": "stdout",
     "output_type": "stream",
     "text": [
      "média 12501.5\n",
      "mediana 2.5\n"
     ]
    }
   ],
   "source": [
    "print('média', np.mean([1, 2, 3, 50000]))\n",
    "print('mediana', np.median([1, 2, 3, 50000]))\n"
   ]
  },
  {
   "cell_type": "code",
   "execution_count": 13,
   "id": "126b3b55",
   "metadata": {},
   "outputs": [
    {
     "data": {
      "text/plain": [
       "0.0"
      ]
     },
     "execution_count": 13,
     "metadata": {},
     "output_type": "execute_result"
    }
   ],
   "source": [
    "# dados homogêneos\n",
    "np.var([10, 10, 10, 10])"
   ]
  },
  {
   "cell_type": "code",
   "execution_count": 14,
   "id": "2d5cdc11",
   "metadata": {},
   "outputs": [
    {
     "data": {
      "text/plain": [
       "49999"
      ]
     },
     "execution_count": 14,
     "metadata": {},
     "output_type": "execute_result"
    }
   ],
   "source": [
    "numeros = [1, 2, 3, 50000]\n",
    "A = np.max(numeros)-np.min(numeros)\n",
    "A"
   ]
  },
  {
   "cell_type": "markdown",
   "id": "f0bb7322",
   "metadata": {},
   "source": [
    "O np.arange cria um vetor espaçado entre dois números."
   ]
  },
  {
   "cell_type": "code",
   "execution_count": 15,
   "id": "8da53b1c",
   "metadata": {},
   "outputs": [
    {
     "data": {
      "text/plain": [
       "array([ 1. ,  1.5,  2. ,  2.5,  3. ,  3.5,  4. ,  4.5,  5. ,  5.5,  6. ,\n",
       "        6.5,  7. ,  7.5,  8. ,  8.5,  9. ,  9.5, 10. , 10.5, 11. , 11.5,\n",
       "       12. , 12.5, 13. , 13.5, 14. , 14.5, 15. , 15.5, 16. , 16.5, 17. ,\n",
       "       17.5, 18. , 18.5, 19. , 19.5])"
      ]
     },
     "execution_count": 15,
     "metadata": {},
     "output_type": "execute_result"
    }
   ],
   "source": [
    "# np.arange\n",
    "np.arange(start=1, stop=20, step=0.5)"
   ]
  },
  {
   "cell_type": "markdown",
   "id": "5f82d562",
   "metadata": {},
   "source": [
    "np.linspace gera um array de n números entre dois valores."
   ]
  },
  {
   "cell_type": "code",
   "execution_count": 16,
   "id": "e88c6222",
   "metadata": {},
   "outputs": [
    {
     "data": {
      "text/plain": [
       "array([ 1.        ,  1.18367347,  1.36734694,  1.55102041,  1.73469388,\n",
       "        1.91836735,  2.10204082,  2.28571429,  2.46938776,  2.65306122,\n",
       "        2.83673469,  3.02040816,  3.20408163,  3.3877551 ,  3.57142857,\n",
       "        3.75510204,  3.93877551,  4.12244898,  4.30612245,  4.48979592,\n",
       "        4.67346939,  4.85714286,  5.04081633,  5.2244898 ,  5.40816327,\n",
       "        5.59183673,  5.7755102 ,  5.95918367,  6.14285714,  6.32653061,\n",
       "        6.51020408,  6.69387755,  6.87755102,  7.06122449,  7.24489796,\n",
       "        7.42857143,  7.6122449 ,  7.79591837,  7.97959184,  8.16326531,\n",
       "        8.34693878,  8.53061224,  8.71428571,  8.89795918,  9.08163265,\n",
       "        9.26530612,  9.44897959,  9.63265306,  9.81632653, 10.        ])"
      ]
     },
     "execution_count": 16,
     "metadata": {},
     "output_type": "execute_result"
    }
   ],
   "source": [
    "# np.linspace\n",
    "np.linspace(start=1, stop=10, num=50)"
   ]
  },
  {
   "cell_type": "markdown",
   "id": "1c754e3a",
   "metadata": {},
   "source": [
    "O submódulo random do numpy pode ser utilizado para gerar números aleatórios, selecionar e embaralhar números."
   ]
  },
  {
   "cell_type": "code",
   "execution_count": 17,
   "id": "0fd7eb0f",
   "metadata": {},
   "outputs": [
    {
     "data": {
      "text/plain": [
       "array([1, 2, 2, 2, 2, 4, 2, 2, 5, 2])"
      ]
     },
     "execution_count": 17,
     "metadata": {},
     "output_type": "execute_result"
    }
   ],
   "source": [
    "# np.random\n",
    "np.random.choice([1, 2, 3, 4, 5], 10)"
   ]
  },
  {
   "cell_type": "code",
   "execution_count": 18,
   "id": "c238b58a",
   "metadata": {},
   "outputs": [
    {
     "data": {
      "text/plain": [
       "array(['Silvio', 'Silvio', 'Thiago', 'Thiago', 'Thiago', 'Silvio',\n",
       "       'Silvio', 'Thiago', 'Silvio', 'Thiago'], dtype='<U6')"
      ]
     },
     "execution_count": 18,
     "metadata": {},
     "output_type": "execute_result"
    }
   ],
   "source": [
    "np.random.choice(['Thiago', 'Silvio'], 10)"
   ]
  },
  {
   "cell_type": "code",
   "execution_count": 19,
   "id": "36048e34",
   "metadata": {},
   "outputs": [
    {
     "data": {
      "text/plain": [
       "array(['Masculino', 'Masculino', 'Masculino', 'Feminino', 'Masculino',\n",
       "       'Masculino', 'Feminino', 'Masculino', 'Masculino', 'Masculino',\n",
       "       'Feminino', 'Masculino', 'Feminino', 'Feminino', 'Masculino',\n",
       "       'Feminino', 'Masculino', 'Feminino', 'Masculino', 'Feminino',\n",
       "       'Feminino', 'Feminino', 'Masculino', 'Masculino', 'Masculino',\n",
       "       'Feminino', 'Feminino', 'Masculino', 'Masculino', 'Feminino',\n",
       "       'Masculino', 'Feminino', 'Feminino', 'Masculino', 'Masculino',\n",
       "       'Feminino', 'Masculino', 'Masculino', 'Feminino', 'Feminino',\n",
       "       'Masculino', 'Feminino', 'Feminino', 'Masculino', 'Feminino',\n",
       "       'Feminino', 'Feminino', 'Masculino', 'Feminino', 'Feminino',\n",
       "       'Masculino', 'Masculino', 'Feminino', 'Feminino', 'Feminino',\n",
       "       'Masculino', 'Masculino', 'Feminino', 'Feminino', 'Feminino',\n",
       "       'Feminino', 'Masculino', 'Masculino', 'Feminino', 'Feminino',\n",
       "       'Masculino', 'Feminino', 'Feminino', 'Masculino', 'Masculino',\n",
       "       'Feminino', 'Feminino', 'Masculino', 'Feminino', 'Masculino',\n",
       "       'Feminino', 'Feminino', 'Masculino', 'Masculino', 'Masculino',\n",
       "       'Masculino', 'Feminino', 'Feminino', 'Masculino', 'Masculino',\n",
       "       'Feminino', 'Feminino', 'Feminino', 'Masculino', 'Masculino',\n",
       "       'Masculino', 'Feminino', 'Feminino', 'Masculino', 'Masculino',\n",
       "       'Masculino', 'Masculino', 'Feminino', 'Masculino', 'Feminino'],\n",
       "      dtype='<U9')"
      ]
     },
     "execution_count": 19,
     "metadata": {},
     "output_type": "execute_result"
    }
   ],
   "source": [
    "# outro exemplo\n",
    "np.random.choice(['Feminino', 'Masculino'], 100)"
   ]
  },
  {
   "cell_type": "code",
   "execution_count": 20,
   "id": "8341b6d3",
   "metadata": {},
   "outputs": [
    {
     "data": {
      "text/plain": [
       "[2, 1, 3]"
      ]
     },
     "execution_count": 20,
     "metadata": {},
     "output_type": "execute_result"
    }
   ],
   "source": [
    "# embaralhamento\n",
    "x = [1, 2, 3]\n",
    "np.random.shuffle(x)\n",
    "\n",
    "x"
   ]
  },
  {
   "cell_type": "code",
   "execution_count": 21,
   "id": "e62db743",
   "metadata": {},
   "outputs": [],
   "source": [
    "# outras opções para números aleatórios"
   ]
  },
  {
   "cell_type": "code",
   "execution_count": 22,
   "id": "c728e75b",
   "metadata": {},
   "outputs": [
    {
     "data": {
      "text/plain": [
       "array([98,  6, 83, 16,  9, 70, 45, 50,  3, 18,  6, 54, 49, 83, 81,  6,  5,\n",
       "       45, 77, 15, 41, 15, 42, 46, 79, 23, 72, 96, 82, 90, 44, 41, 16,  1,\n",
       "       74, 14, 44, 76, 33,  4, 36, 96, 36,  6, 34, 53, 85, 99, 82, 10])"
      ]
     },
     "execution_count": 22,
     "metadata": {},
     "output_type": "execute_result"
    }
   ],
   "source": [
    "# np.random.randint\n",
    "np.random.randint(1, 100, 50)"
   ]
  },
  {
   "cell_type": "code",
   "execution_count": 23,
   "id": "d89f2346",
   "metadata": {},
   "outputs": [
    {
     "data": {
      "text/plain": [
       "array([[49, 57, 59, 85, 64, 43, 57, 38, 35, 15],\n",
       "       [44, 91, 73, 85, 61, 74, 78, 38, 18, 33],\n",
       "       [47, 45,  9, 87, 87, 67, 81, 48, 96, 16],\n",
       "       [95, 19, 72, 38, 47, 76, 33, 44, 41, 64],\n",
       "       [89, 93,  2,  6, 57, 32,  6, 80, 78, 47],\n",
       "       [18,  3, 75, 12, 24, 50, 14, 46, 17, 14],\n",
       "       [56,  4, 96, 46, 60, 51,  6, 56, 42, 17],\n",
       "       [96, 86, 41, 96, 58, 69, 79, 45, 11, 10],\n",
       "       [19, 76, 46, 76, 35, 20, 26, 49, 51, 85],\n",
       "       [67, 36, 60, 97, 30, 49, 95, 76, 60, 79],\n",
       "       [33, 83, 47, 44, 54, 75, 24, 73, 28, 40],\n",
       "       [25, 65,  7, 33, 78, 41, 14, 80, 14, 15],\n",
       "       [22, 38, 42, 25, 25, 50, 25, 10, 89, 40],\n",
       "       [58, 77, 28, 97, 92, 44, 94, 30, 25, 79],\n",
       "       [24,  3, 34, 85, 75, 94, 49, 58, 33, 51]])"
      ]
     },
     "execution_count": 23,
     "metadata": {},
     "output_type": "execute_result"
    }
   ],
   "source": [
    "np.random.randint(1, 100, size = (15, 10))"
   ]
  },
  {
   "cell_type": "code",
   "execution_count": 24,
   "id": "ead9bb19",
   "metadata": {},
   "outputs": [
    {
     "name": "stdout",
     "output_type": "stream",
     "text": [
      "Média: 4.991994268745875\n",
      "Desvio padrão: 0.46598101612198606\n"
     ]
    }
   ],
   "source": [
    "# np.random.normal\n",
    "vetor = np.random.normal(5, 0.5, 50)\n",
    "media = vetor.mean()\n",
    "std = vetor.std()\n",
    "print(f'Média: {media}')\n",
    "print(f'Desvio padrão: {std}')"
   ]
  },
  {
   "cell_type": "code",
   "execution_count": 25,
   "id": "6250d1a1",
   "metadata": {},
   "outputs": [
    {
     "data": {
      "text/plain": [
       "array([ 1.10855471e-03, -2.89544069e-01, -1.11606630e+00, -1.28827567e-02,\n",
       "       -3.78361464e-01, -4.81135363e-01, -1.51733118e+00, -4.90871981e-01,\n",
       "       -2.40680579e-01, -6.47947460e-01])"
      ]
     },
     "execution_count": 25,
     "metadata": {},
     "output_type": "execute_result"
    }
   ],
   "source": [
    "# np.random.standard_normal\n",
    "np.random.seed(9)\n",
    "np.random.standard_normal(size = 10)"
   ]
  },
  {
   "cell_type": "markdown",
   "id": "965b028a",
   "metadata": {},
   "source": [
    "## Visualização básica"
   ]
  },
  {
   "cell_type": "code",
   "execution_count": 26,
   "id": "0a5f2bcf",
   "metadata": {},
   "outputs": [],
   "source": [
    "import matplotlib.pyplot as plt"
   ]
  },
  {
   "cell_type": "markdown",
   "id": "0a83d504",
   "metadata": {},
   "source": [
    "## Plotagem unidimensional"
   ]
  },
  {
   "cell_type": "code",
   "execution_count": 27,
   "id": "2e40e131",
   "metadata": {},
   "outputs": [
    {
     "data": {
      "image/png": "[encoded data removed]",
      "text/plain": [
       "<Figure size 432x288 with 1 Axes>"
      ]
     },
     "metadata": {
      "needs_background": "light"
     },
     "output_type": "display_data"
    }
   ],
   "source": [
    "np.random.seed(9)\n",
    "array = np.random.randint(0, 10, 10)\n",
    "plt.plot(array)\n",
    "plt.show()"
   ]
  },
  {
   "cell_type": "code",
   "execution_count": 28,
   "id": "49148bf5",
   "metadata": {},
   "outputs": [
    {
     "data": {
      "image/png": "[encoded data removed]",
      "text/plain": [
       "<Figure size 432x288 with 1 Axes>"
      ]
     },
     "metadata": {
      "needs_background": "light"
     },
     "output_type": "display_data"
    }
   ],
   "source": [
    "np.random.seed(9)\n",
    "y = np.random.randint(1, 100, 5)\n",
    "\n",
    "# plot da linha\n",
    "plt.plot(y, color = 'black')          \n",
    "# plotagem dos pontos - * simbolo para representar os pontos na reta\n",
    "plt.plot(y * 2, 'o', color = 'red')\n",
    "# título\n",
    "plt.title('Meu primeiro gráfico')\n",
    "# eixo X\n",
    "plt.xlabel('Eixo X')\n",
    "# eixo Y\n",
    "plt.ylabel('Eixo Y')\n",
    "# mostra o gráfico\n",
    "plt.show()"
   ]
  },
  {
   "cell_type": "markdown",
   "id": "209b5f16",
   "metadata": {},
   "source": [
    "## Concatenação de arrays"
   ]
  },
  {
   "cell_type": "markdown",
   "id": "f5d850ab",
   "metadata": {},
   "source": [
    "Podemos unir 2 ou mais arrays, lateralmente ou verticalmente."
   ]
  },
  {
   "cell_type": "code",
   "execution_count": 29,
   "id": "3c1310f4",
   "metadata": {},
   "outputs": [
    {
     "data": {
      "text/plain": [
       "array([0, 1, 2, 3, 4, 5, 6, 7, 8])"
      ]
     },
     "execution_count": 29,
     "metadata": {},
     "output_type": "execute_result"
    }
   ],
   "source": [
    "array = np.arange(9)\n",
    "array"
   ]
  },
  {
   "cell_type": "code",
   "execution_count": 30,
   "id": "8cf1871f",
   "metadata": {},
   "outputs": [
    {
     "data": {
      "text/plain": [
       "array([[0, 1, 2],\n",
       "       [3, 4, 5],\n",
       "       [6, 7, 8]])"
      ]
     },
     "execution_count": 30,
     "metadata": {},
     "output_type": "execute_result"
    }
   ],
   "source": [
    "array2D_1 = array.reshape((3, 3))\n",
    "array2D_1"
   ]
  },
  {
   "cell_type": "code",
   "execution_count": 31,
   "id": "e420ac8b",
   "metadata": {},
   "outputs": [
    {
     "data": {
      "text/plain": [
       "array([[10, 11, 12],\n",
       "       [13, 14, 15],\n",
       "       [16, 17, 18]])"
      ]
     },
     "execution_count": 31,
     "metadata": {},
     "output_type": "execute_result"
    }
   ],
   "source": [
    "array2D_2 = np.arange(10, 19).reshape(3, 3)\n",
    "array2D_2"
   ]
  },
  {
   "cell_type": "code",
   "execution_count": 32,
   "id": "0d1855c3",
   "metadata": {},
   "outputs": [
    {
     "data": {
      "text/plain": [
       "array([[ 0,  1,  2, 10, 11, 12],\n",
       "       [ 3,  4,  5, 13, 14, 15],\n",
       "       [ 6,  7,  8, 16, 17, 18]])"
      ]
     },
     "execution_count": 32,
     "metadata": {},
     "output_type": "execute_result"
    }
   ],
   "source": [
    "# concatenação vertical\n",
    "np.concatenate((array2D_1, array2D_2), axis = 1)"
   ]
  },
  {
   "cell_type": "code",
   "execution_count": 33,
   "id": "7556a9d1",
   "metadata": {},
   "outputs": [
    {
     "data": {
      "text/plain": [
       "array([[ 0,  1,  2, 10, 11, 12],\n",
       "       [ 3,  4,  5, 13, 14, 15],\n",
       "       [ 6,  7,  8, 16, 17, 18]])"
      ]
     },
     "execution_count": 33,
     "metadata": {},
     "output_type": "execute_result"
    }
   ],
   "source": [
    "# concatenação horizontal\n",
    "np.concatenate((array2D_1, array2D_2), axis = 1)"
   ]
  },
  {
   "cell_type": "code",
   "execution_count": 34,
   "id": "8742d006",
   "metadata": {},
   "outputs": [
    {
     "data": {
      "text/plain": [
       "array([[ 0,  1,  2],\n",
       "       [ 3,  4,  5],\n",
       "       [ 6,  7,  8],\n",
       "       [10, 11, 12],\n",
       "       [13, 14, 15],\n",
       "       [16, 17, 18],\n",
       "       [ 0,  1,  2],\n",
       "       [ 3,  4,  5],\n",
       "       [ 6,  7,  8],\n",
       "       [ 0,  1,  2],\n",
       "       [ 3,  4,  5],\n",
       "       [ 6,  7,  8]])"
      ]
     },
     "execution_count": 34,
     "metadata": {},
     "output_type": "execute_result"
    }
   ],
   "source": [
    "# concatenar mais de 2 arrays\n",
    "np.concatenate((array2D_1, array2D_2, array2D_1, array2D_1))"
   ]
  },
  {
   "cell_type": "code",
   "execution_count": 35,
   "id": "b412502e",
   "metadata": {},
   "outputs": [
    {
     "data": {
      "text/plain": [
       "array([[0, 1, 2],\n",
       "       [3, 4, 5],\n",
       "       [6, 7, 8]])"
      ]
     },
     "execution_count": 35,
     "metadata": {},
     "output_type": "execute_result"
    }
   ],
   "source": [
    "array2D_1"
   ]
  }
 ],
 "metadata": {
  "kernelspec": {
   "display_name": "Python 3 (ipykernel)",
   "language": "python",
   "name": "python3"
  },
  "language_info": {
   "codemirror_mode": {
    "name": "ipython",
    "version": 3
   },
   "file_extension": ".py",
   "mimetype": "text/x-python",
   "name": "python",
   "nbconvert_exporter": "python",
   "pygments_lexer": "ipython3",
   "version": "3.9.12"
  }
 },
 "nbformat": 4,
 "nbformat_minor": 5
}
